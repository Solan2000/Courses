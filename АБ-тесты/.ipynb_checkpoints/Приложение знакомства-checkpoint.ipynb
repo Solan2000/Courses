{
 "cells": [
  {
   "cell_type": "code",
   "execution_count": 14,
   "metadata": {},
   "outputs": [],
   "source": [
    "import pandas as pd\n",
    "from scipy import stats"
   ]
  },
  {
   "cell_type": "code",
   "execution_count": 8,
   "metadata": {},
   "outputs": [],
   "source": [
    "dating_data = pd.read_csv(\"/mnt/HC_Volume_18315164/home-jupyter/jupyter-a-zakorko/dating_data.csv\")"
   ]
  },
  {
   "cell_type": "code",
   "execution_count": 9,
   "metadata": {},
   "outputs": [
    {
     "data": {
      "text/html": [
       "<div>\n",
       "<style scoped>\n",
       "    .dataframe tbody tr th:only-of-type {\n",
       "        vertical-align: middle;\n",
       "    }\n",
       "\n",
       "    .dataframe tbody tr th {\n",
       "        vertical-align: top;\n",
       "    }\n",
       "\n",
       "    .dataframe thead th {\n",
       "        text-align: right;\n",
       "    }\n",
       "</style>\n",
       "<table border=\"1\" class=\"dataframe\">\n",
       "  <thead>\n",
       "    <tr style=\"text-align: right;\">\n",
       "      <th></th>\n",
       "      <th>user_id_1</th>\n",
       "      <th>user_id_2</th>\n",
       "      <th>group</th>\n",
       "      <th>is_match</th>\n",
       "    </tr>\n",
       "  </thead>\n",
       "  <tbody>\n",
       "    <tr>\n",
       "      <th>0</th>\n",
       "      <td>79</td>\n",
       "      <td>91</td>\n",
       "      <td>1</td>\n",
       "      <td>1</td>\n",
       "    </tr>\n",
       "    <tr>\n",
       "      <th>1</th>\n",
       "      <td>716</td>\n",
       "      <td>353</td>\n",
       "      <td>1</td>\n",
       "      <td>1</td>\n",
       "    </tr>\n",
       "    <tr>\n",
       "      <th>2</th>\n",
       "      <td>423</td>\n",
       "      <td>677</td>\n",
       "      <td>0</td>\n",
       "      <td>0</td>\n",
       "    </tr>\n",
       "    <tr>\n",
       "      <th>3</th>\n",
       "      <td>658</td>\n",
       "      <td>165</td>\n",
       "      <td>1</td>\n",
       "      <td>1</td>\n",
       "    </tr>\n",
       "    <tr>\n",
       "      <th>4</th>\n",
       "      <td>969</td>\n",
       "      <td>155</td>\n",
       "      <td>0</td>\n",
       "      <td>1</td>\n",
       "    </tr>\n",
       "    <tr>\n",
       "      <th>...</th>\n",
       "      <td>...</td>\n",
       "      <td>...</td>\n",
       "      <td>...</td>\n",
       "      <td>...</td>\n",
       "    </tr>\n",
       "    <tr>\n",
       "      <th>14509</th>\n",
       "      <td>476</td>\n",
       "      <td>631</td>\n",
       "      <td>0</td>\n",
       "      <td>0</td>\n",
       "    </tr>\n",
       "    <tr>\n",
       "      <th>14510</th>\n",
       "      <td>455</td>\n",
       "      <td>770</td>\n",
       "      <td>1</td>\n",
       "      <td>0</td>\n",
       "    </tr>\n",
       "    <tr>\n",
       "      <th>14511</th>\n",
       "      <td>260</td>\n",
       "      <td>6</td>\n",
       "      <td>1</td>\n",
       "      <td>1</td>\n",
       "    </tr>\n",
       "    <tr>\n",
       "      <th>14512</th>\n",
       "      <td>885</td>\n",
       "      <td>812</td>\n",
       "      <td>1</td>\n",
       "      <td>1</td>\n",
       "    </tr>\n",
       "    <tr>\n",
       "      <th>14513</th>\n",
       "      <td>357</td>\n",
       "      <td>810</td>\n",
       "      <td>1</td>\n",
       "      <td>1</td>\n",
       "    </tr>\n",
       "  </tbody>\n",
       "</table>\n",
       "<p>14514 rows × 4 columns</p>\n",
       "</div>"
      ],
      "text/plain": [
       "       user_id_1  user_id_2  group  is_match\n",
       "0             79         91      1         1\n",
       "1            716        353      1         1\n",
       "2            423        677      0         0\n",
       "3            658        165      1         1\n",
       "4            969        155      0         1\n",
       "...          ...        ...    ...       ...\n",
       "14509        476        631      0         0\n",
       "14510        455        770      1         0\n",
       "14511        260          6      1         1\n",
       "14512        885        812      1         1\n",
       "14513        357        810      1         1\n",
       "\n",
       "[14514 rows x 4 columns]"
      ]
     },
     "execution_count": 9,
     "metadata": {},
     "output_type": "execute_result"
    }
   ],
   "source": [
    "dating_data"
   ]
  },
  {
   "cell_type": "markdown",
   "metadata": {},
   "source": [
    "Для оценки эффективности нового алгоритма, сосредоточимся на следующих метриках:\n",
    "\n",
    "Процент мэтчей (Целевая метрика): Сравнение доли мэтчей в каждой группе. Это покажет, увеличивает ли новый алгоритм вероятность возникновения мэтча.\n",
    "Активность пользователей (Прокси-метрика): Оценка количества взаимодействий (лайков/дизлайков) на пользователя в каждой группе. Это может показать, стал ли новый алгоритм более привлекательным для пользователей."
   ]
  },
  {
   "cell_type": "code",
   "execution_count": 12,
   "metadata": {},
   "outputs": [
    {
     "name": "stdout",
     "output_type": "stream",
     "text": [
      "Процента метчей для 0 и 1 группы: group\n",
      "0    0.194908\n",
      "1    0.402078\n",
      "Name: is_match, dtype: float64\n",
      "Процент взаимодействий у 0 и 1 группы: group\n",
      "0    19.129741\n",
      "1    38.965932\n",
      "dtype: float64\n"
     ]
    }
   ],
   "source": [
    "# Расчет метрик для каждой группы\n",
    "\n",
    "# Расчет доли мэтчей в каждой группе\n",
    "match_rate = dating_data.groupby('group')['is_match'].mean()\n",
    "\n",
    "# Расчет количества взаимодействий (строк) на пользователя в каждой группе\n",
    "# Сначала объединяем идентификаторы пользователей в один столбец\n",
    "user_interactions = pd.concat([dating_data['user_id_1'], dating_data['user_id_2']])\n",
    "# Затем группируем по группе и подсчитываем среднее\n",
    "interaction_rate = dating_data.groupby('group').apply(lambda x: user_interactions[user_interactions.isin(x['user_id_1'].append(x['user_id_2']))].count() / x['user_id_1'].append(x['user_id_2']).nunique())\n",
    "\n",
    "# Вывод результатов\n",
    "print(\"Процента метчей для 0 и 1 группы:\",match_rate)\n",
    "print(\"Процент взаимодействий у 0 и 1 группы:\",interaction_rate)\n"
   ]
  },
  {
   "cell_type": "markdown",
   "metadata": {},
   "source": [
    "Исходя из этих данных, можно сделать предварительный вывод, что новый алгоритм значительно улучшает качество сервиса: он не только увеличивает вероятность мэтчей, но и стимулирует более высокую активность пользователей"
   ]
  },
  {
   "cell_type": "markdown",
   "metadata": {},
   "source": [
    "Для более полной оценки следует провести статистический анализ, чтобы убедиться в значимости различий между группами. \n",
    "Для этого я применим t-тест (для сравнения средних значений). "
   ]
  },
  {
   "cell_type": "code",
   "execution_count": 15,
   "metadata": {},
   "outputs": [
    {
     "name": "stderr",
     "output_type": "stream",
     "text": [
      "/opt/tljh/user/lib/python3.7/site-packages/scipy/stats/morestats.py:1760: UserWarning: p-value may not be accurate for N > 5000.\n",
      "  warnings.warn(\"p-value may not be accurate for N > 5000.\")\n"
     ]
    },
    {
     "data": {
      "text/plain": [
       "(0.0,\n",
       " 0.0,\n",
       " MannwhitneyuResult(statistic=18468122.0, pvalue=9.239398092772123e-137))"
      ]
     },
     "execution_count": 15,
     "metadata": {},
     "output_type": "execute_result"
    }
   ],
   "source": [
    "# Подготовка данных для статистического теста\n",
    "group_0 = dating_data[dating_data['group'] == 0]['is_match']\n",
    "group_1 = dating_data[dating_data['group'] == 1]['is_match']\n",
    "\n",
    "# Проверка на нормальность распределения с использованием теста Шапиро-Уилка\n",
    "normality_test_group_0 = stats.shapiro(group_0)\n",
    "normality_test_group_1 = stats.shapiro(group_1)\n",
    "\n",
    "# Проведение t-теста для независимых выборок, если данные распределены нормально\n",
    "# Или использование теста Манна-Уитни, если данные распределены не нормально\n",
    "if normality_test_group_0.pvalue > 0.05 and normality_test_group_1.pvalue > 0.05:\n",
    "    # Данные распределены нормально, используем t-тест\n",
    "    test_result = stats.ttest_ind(group_0, group_1, equal_var=False)\n",
    "else:\n",
    "    # Данные распределены не нормально, используем тест Манна-Уитни\n",
    "    test_result = stats.mannwhitneyu(group_0, group_1)\n",
    "\n",
    "normality_test_group_0.pvalue, normality_test_group_1.pvalue, test_result\n"
   ]
  },
  {
   "cell_type": "markdown",
   "metadata": {},
   "source": [
    "Результаты статистических тестов следующие:\n",
    "\n",
    "Тест Шапиро-Уилка на нормальность распределения:\n",
    "\n",
    "Для группы 0 (старый алгоритм) и группы 1 (новый алгоритм) p-значение составляет 0.0. Это говорит о том, что распределение данных в обеих группах не соответствует нормальному распределению.\n",
    "Тест Манна-Уитни на сравнение двух независимых выборок:\n",
    "\n",
    "P-значение теста Манна-Уитни составляет приблизительно \n",
    "9.239398092772123e-137, что значительно ниже стандартного порога значимости 0.05."
   ]
  },
  {
   "cell_type": "markdown",
   "metadata": {},
   "source": [
    "Эти результаты говорят о том, что различие в проценте мэтчей между двумя группами статистически значимо. Таким образом, можно сделать вывод о том, что новый алгоритм действительно улучшает качество сервиса в приложении для знакомств, увеличивая вероятность возникновения мэтчей между пользователями.\n",
    "На основании этих данных рекомендуется внедрить новый алгоритм для всех пользователей приложения!"
   ]
  }
 ],
 "metadata": {
  "kernelspec": {
   "display_name": "Python 3",
   "language": "python",
   "name": "python3"
  },
  "language_info": {
   "codemirror_mode": {
    "name": "ipython",
    "version": 3
   },
   "file_extension": ".py",
   "mimetype": "text/x-python",
   "name": "python",
   "nbconvert_exporter": "python",
   "pygments_lexer": "ipython3",
   "version": "3.7.3"
  }
 },
 "nbformat": 4,
 "nbformat_minor": 4
}
