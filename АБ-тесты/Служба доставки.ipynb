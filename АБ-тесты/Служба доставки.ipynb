{
 "cells": [
  {
   "cell_type": "code",
   "execution_count": 31,
   "metadata": {},
   "outputs": [],
   "source": [
    "import pandas as pd\n",
    "from scipy import stats"
   ]
  },
  {
   "cell_type": "code",
   "execution_count": 21,
   "metadata": {},
   "outputs": [],
   "source": [
    "ab_users_data = pd.read_csv(\"/mnt/HC_Volume_18315164/home-jupyter/jupyter-a-zakorko/ab_users_data.csv\")\n",
    "ab_orders = pd.read_csv(\"/mnt/HC_Volume_18315164/home-jupyter/jupyter-a-zakorko/ab_orders.csv\")\n",
    "ab_products = pd.read_csv(\"/mnt/HC_Volume_18315164/home-jupyter/jupyter-a-zakorko/ab_products.csv\")"
   ]
  },
  {
   "cell_type": "code",
   "execution_count": 26,
   "metadata": {},
   "outputs": [
    {
     "data": {
      "text/html": [
       "<div>\n",
       "<style scoped>\n",
       "    .dataframe tbody tr th:only-of-type {\n",
       "        vertical-align: middle;\n",
       "    }\n",
       "\n",
       "    .dataframe tbody tr th {\n",
       "        vertical-align: top;\n",
       "    }\n",
       "\n",
       "    .dataframe thead th {\n",
       "        text-align: right;\n",
       "    }\n",
       "</style>\n",
       "<table border=\"1\" class=\"dataframe\">\n",
       "  <thead>\n",
       "    <tr style=\"text-align: right;\">\n",
       "      <th></th>\n",
       "      <th>user_id</th>\n",
       "      <th>order_id</th>\n",
       "      <th>action</th>\n",
       "      <th>time</th>\n",
       "      <th>date</th>\n",
       "      <th>group</th>\n",
       "    </tr>\n",
       "  </thead>\n",
       "  <tbody>\n",
       "    <tr>\n",
       "      <th>0</th>\n",
       "      <td>964</td>\n",
       "      <td>1255</td>\n",
       "      <td>create_order</td>\n",
       "      <td>2022-08-26 00:00:19.000000</td>\n",
       "      <td>2022-08-26</td>\n",
       "      <td>0</td>\n",
       "    </tr>\n",
       "    <tr>\n",
       "      <th>1</th>\n",
       "      <td>965</td>\n",
       "      <td>1256</td>\n",
       "      <td>create_order</td>\n",
       "      <td>2022-08-26 00:02:21.000000</td>\n",
       "      <td>2022-08-26</td>\n",
       "      <td>1</td>\n",
       "    </tr>\n",
       "    <tr>\n",
       "      <th>2</th>\n",
       "      <td>964</td>\n",
       "      <td>1257</td>\n",
       "      <td>create_order</td>\n",
       "      <td>2022-08-26 00:02:27.000000</td>\n",
       "      <td>2022-08-26</td>\n",
       "      <td>0</td>\n",
       "    </tr>\n",
       "    <tr>\n",
       "      <th>3</th>\n",
       "      <td>966</td>\n",
       "      <td>1258</td>\n",
       "      <td>create_order</td>\n",
       "      <td>2022-08-26 00:02:56.000000</td>\n",
       "      <td>2022-08-26</td>\n",
       "      <td>0</td>\n",
       "    </tr>\n",
       "    <tr>\n",
       "      <th>4</th>\n",
       "      <td>967</td>\n",
       "      <td>1259</td>\n",
       "      <td>create_order</td>\n",
       "      <td>2022-08-26 00:03:37.000000</td>\n",
       "      <td>2022-08-26</td>\n",
       "      <td>1</td>\n",
       "    </tr>\n",
       "  </tbody>\n",
       "</table>\n",
       "</div>"
      ],
      "text/plain": [
       "   user_id  order_id        action                        time        date  \\\n",
       "0      964      1255  create_order  2022-08-26 00:00:19.000000  2022-08-26   \n",
       "1      965      1256  create_order  2022-08-26 00:02:21.000000  2022-08-26   \n",
       "2      964      1257  create_order  2022-08-26 00:02:27.000000  2022-08-26   \n",
       "3      966      1258  create_order  2022-08-26 00:02:56.000000  2022-08-26   \n",
       "4      967      1259  create_order  2022-08-26 00:03:37.000000  2022-08-26   \n",
       "\n",
       "   group  \n",
       "0      0  \n",
       "1      1  \n",
       "2      0  \n",
       "3      0  \n",
       "4      1  "
      ]
     },
     "execution_count": 26,
     "metadata": {},
     "output_type": "execute_result"
    }
   ],
   "source": [
    "ab_users_data.head()"
   ]
  },
  {
   "cell_type": "code",
   "execution_count": 27,
   "metadata": {},
   "outputs": [
    {
     "data": {
      "text/html": [
       "<div>\n",
       "<style scoped>\n",
       "    .dataframe tbody tr th:only-of-type {\n",
       "        vertical-align: middle;\n",
       "    }\n",
       "\n",
       "    .dataframe tbody tr th {\n",
       "        vertical-align: top;\n",
       "    }\n",
       "\n",
       "    .dataframe thead th {\n",
       "        text-align: right;\n",
       "    }\n",
       "</style>\n",
       "<table border=\"1\" class=\"dataframe\">\n",
       "  <thead>\n",
       "    <tr style=\"text-align: right;\">\n",
       "      <th></th>\n",
       "      <th>order_id</th>\n",
       "      <th>creation_time</th>\n",
       "      <th>product_ids</th>\n",
       "    </tr>\n",
       "  </thead>\n",
       "  <tbody>\n",
       "    <tr>\n",
       "      <th>0</th>\n",
       "      <td>1255</td>\n",
       "      <td>2022-08-26 00:00:19.000000</td>\n",
       "      <td>{75, 22, 53, 84}</td>\n",
       "    </tr>\n",
       "    <tr>\n",
       "      <th>1</th>\n",
       "      <td>1256</td>\n",
       "      <td>2022-08-26 00:02:21.000000</td>\n",
       "      <td>{56, 76, 39}</td>\n",
       "    </tr>\n",
       "    <tr>\n",
       "      <th>2</th>\n",
       "      <td>1257</td>\n",
       "      <td>2022-08-26 00:02:27.000000</td>\n",
       "      <td>{76, 34, 41, 38}</td>\n",
       "    </tr>\n",
       "    <tr>\n",
       "      <th>3</th>\n",
       "      <td>1258</td>\n",
       "      <td>2022-08-26 00:02:56.000000</td>\n",
       "      <td>{74, 6}</td>\n",
       "    </tr>\n",
       "    <tr>\n",
       "      <th>4</th>\n",
       "      <td>1259</td>\n",
       "      <td>2022-08-26 00:03:37.000000</td>\n",
       "      <td>{20, 45, 67, 26}</td>\n",
       "    </tr>\n",
       "  </tbody>\n",
       "</table>\n",
       "</div>"
      ],
      "text/plain": [
       "   order_id               creation_time       product_ids\n",
       "0      1255  2022-08-26 00:00:19.000000  {75, 22, 53, 84}\n",
       "1      1256  2022-08-26 00:02:21.000000      {56, 76, 39}\n",
       "2      1257  2022-08-26 00:02:27.000000  {76, 34, 41, 38}\n",
       "3      1258  2022-08-26 00:02:56.000000           {74, 6}\n",
       "4      1259  2022-08-26 00:03:37.000000  {20, 45, 67, 26}"
      ]
     },
     "execution_count": 27,
     "metadata": {},
     "output_type": "execute_result"
    }
   ],
   "source": [
    "ab_orders.head()"
   ]
  },
  {
   "cell_type": "code",
   "execution_count": 28,
   "metadata": {},
   "outputs": [
    {
     "data": {
      "text/html": [
       "<div>\n",
       "<style scoped>\n",
       "    .dataframe tbody tr th:only-of-type {\n",
       "        vertical-align: middle;\n",
       "    }\n",
       "\n",
       "    .dataframe tbody tr th {\n",
       "        vertical-align: top;\n",
       "    }\n",
       "\n",
       "    .dataframe thead th {\n",
       "        text-align: right;\n",
       "    }\n",
       "</style>\n",
       "<table border=\"1\" class=\"dataframe\">\n",
       "  <thead>\n",
       "    <tr style=\"text-align: right;\">\n",
       "      <th></th>\n",
       "      <th>product_id</th>\n",
       "      <th>name</th>\n",
       "      <th>price</th>\n",
       "    </tr>\n",
       "  </thead>\n",
       "  <tbody>\n",
       "    <tr>\n",
       "      <th>0</th>\n",
       "      <td>1</td>\n",
       "      <td>сахар</td>\n",
       "      <td>150.0</td>\n",
       "    </tr>\n",
       "    <tr>\n",
       "      <th>1</th>\n",
       "      <td>2</td>\n",
       "      <td>чай зеленый в пакетиках</td>\n",
       "      <td>50.0</td>\n",
       "    </tr>\n",
       "    <tr>\n",
       "      <th>2</th>\n",
       "      <td>3</td>\n",
       "      <td>вода негазированная</td>\n",
       "      <td>80.4</td>\n",
       "    </tr>\n",
       "    <tr>\n",
       "      <th>3</th>\n",
       "      <td>4</td>\n",
       "      <td>леденцы</td>\n",
       "      <td>45.5</td>\n",
       "    </tr>\n",
       "    <tr>\n",
       "      <th>4</th>\n",
       "      <td>5</td>\n",
       "      <td>кофе 3 в 1</td>\n",
       "      <td>15.0</td>\n",
       "    </tr>\n",
       "  </tbody>\n",
       "</table>\n",
       "</div>"
      ],
      "text/plain": [
       "   product_id                     name  price\n",
       "0           1                    сахар  150.0\n",
       "1           2  чай зеленый в пакетиках   50.0\n",
       "2           3      вода негазированная   80.4\n",
       "3           4                  леденцы   45.5\n",
       "4           5               кофе 3 в 1   15.0"
      ]
     },
     "execution_count": 28,
     "metadata": {},
     "output_type": "execute_result"
    }
   ],
   "source": [
    "ab_products.head()"
   ]
  },
  {
   "cell_type": "markdown",
   "metadata": {},
   "source": [
    "Для оценки эффективности новой системы рекомендаций мы можем рассмотреть следующие метрики:\n",
    "\n",
    "Средний чек заказа(Целевая метрика): Сравнение среднего чека заказа между тестовой и контрольной группами. Больший средний чек в тестовой группе может указывать на то, что система рекомендаций способствует увеличению расходов пользователей.\n",
    "\n",
    "Количество отменённых заказов(Прокси-метрика): Процент отменённых заказов в обеих группах. Меньший процент отмен в тестовой группе может указывать на улучшение качества выбора продуктов благодаря рекомендациям.\n",
    "\n",
    "Среднее количество товаров в заказе(Прокси-метрика): Сравнение среднего количества товаров в заказе между группами. Большее количество товаров в заказах тестовой группы может свидетельствовать о том, что рекомендации помогают пользователям находить больше нужных товаров."
   ]
  },
  {
   "cell_type": "code",
   "execution_count": 53,
   "metadata": {},
   "outputs": [
    {
     "data": {
      "text/html": [
       "<div>\n",
       "<style scoped>\n",
       "    .dataframe tbody tr th:only-of-type {\n",
       "        vertical-align: middle;\n",
       "    }\n",
       "\n",
       "    .dataframe tbody tr th {\n",
       "        vertical-align: top;\n",
       "    }\n",
       "\n",
       "    .dataframe thead th {\n",
       "        text-align: right;\n",
       "    }\n",
       "</style>\n",
       "<table border=\"1\" class=\"dataframe\">\n",
       "  <thead>\n",
       "    <tr style=\"text-align: right;\">\n",
       "      <th></th>\n",
       "      <th>Средник чек заказа</th>\n",
       "      <th>Процент отменённых заказов</th>\n",
       "      <th>Среднее количество товаров в заказе</th>\n",
       "    </tr>\n",
       "    <tr>\n",
       "      <th>group</th>\n",
       "      <th></th>\n",
       "      <th></th>\n",
       "      <th></th>\n",
       "    </tr>\n",
       "  </thead>\n",
       "  <tbody>\n",
       "    <tr>\n",
       "      <th>0</th>\n",
       "      <td>381.285768</td>\n",
       "      <td>0.050963</td>\n",
       "      <td>3.349907</td>\n",
       "    </tr>\n",
       "    <tr>\n",
       "      <th>1</th>\n",
       "      <td>369.622912</td>\n",
       "      <td>0.052506</td>\n",
       "      <td>3.355609</td>\n",
       "    </tr>\n",
       "  </tbody>\n",
       "</table>\n",
       "</div>"
      ],
      "text/plain": [
       "       Средник чек заказа  Процент отменённых заказов  \\\n",
       "group                                                   \n",
       "0              381.285768                    0.050963   \n",
       "1              369.622912                    0.052506   \n",
       "\n",
       "       Среднее количество товаров в заказе  \n",
       "group                                       \n",
       "0                                 3.349907  \n",
       "1                                 3.355609  "
      ]
     },
     "execution_count": 53,
     "metadata": {},
     "output_type": "execute_result"
    }
   ],
   "source": [
    "# Подготовка данных для анализа метрик\n",
    "\n",
    "# 1. Объединение данных о заказах с информацией о пользователях\n",
    "merged_orders_users = pd.merge(ab_orders, ab_users_data, on=\"order_id\")\n",
    "\n",
    "# 2. Конвертация строк с идентификаторами продуктов в списки\n",
    "merged_orders_users['product_ids'] = merged_orders_users['product_ids'].apply(lambda x: [int(i) for i in x.strip('{}').split(',')])\n",
    "\n",
    "# 3. Подсчет общей стоимости заказа\n",
    "# Сначала создаем словарь для быстрого доступа к ценам продуктов\n",
    "product_prices = dict(zip(ab_products['product_id'], ab_products['price']))\n",
    "\n",
    "# Функция для подсчета общей стоимости заказа\n",
    "def calculate_order_total(product_ids):\n",
    "    return sum(product_prices[pid] for pid in product_ids)\n",
    "\n",
    "# Применяем функцию к каждому заказу\n",
    "merged_orders_users['order_total'] = merged_orders_users['product_ids'].apply(calculate_order_total)\n",
    "\n",
    "# 4. Рассчет метрик\n",
    "# Средний чек заказа для каждой группы\n",
    "average_order_value = merged_orders_users[merged_orders_users['action'] == 'create_order'].groupby('group')['order_total'].mean()\n",
    "\n",
    "# Процент отменённых заказов в каждой группе\n",
    "cancellation_rate = merged_orders_users[merged_orders_users['action'] == 'cancel_order'].groupby('group')['order_id'].nunique() / merged_orders_users.groupby('group')['order_id'].nunique()\n",
    "\n",
    "# Среднее количество товаров в заказе\n",
    "average_items_per_order = merged_orders_users[merged_orders_users['action'] == 'create_order'].groupby('group')['product_ids'].apply(lambda x: x.str.len().mean())\n",
    "\n",
    "# Собираем метрики в один DataFrame для удобства сравнения\n",
    "metrics = pd.DataFrame({\n",
    "    \"Средник чек заказа\": average_order_value,\n",
    "    \"Процент отменённых заказов\": cancellation_rate,\n",
    "    \"Среднее количество товаров в заказе\": average_items_per_order\n",
    "})\n",
    "\n",
    "metrics\n"
   ]
  },
  {
   "cell_type": "markdown",
   "metadata": {},
   "source": [
    "Средний чек заказа немного выше в контрольной группе, что может указывать на то, что новая система рекомендаций не способствовала увеличению расходов пользователей.\n",
    "\n",
    "Процент отменённых заказов немного выше в тестовой группе, что может указывать на то, что новая система рекомендаций не помогла снизить количество отмененных заказов.\n",
    "\n",
    "Среднее количество товаров в заказе практически одинаково в обеих группах, что указывает на отсутствие значительного влияния новой системы рекомендаций на количество покупаемых товаров."
   ]
  },
  {
   "cell_type": "markdown",
   "metadata": {},
   "source": [
    "Для более глубокой оценки результатов АБ-теста, необходимо провести статистический анализ данных. \n",
    "Особенно важно проверить статистическую значимость различий между группами по целевой метрике (Средний чек заказа), используя t-тест."
   ]
  },
  {
   "cell_type": "code",
   "execution_count": 56,
   "metadata": {},
   "outputs": [
    {
     "data": {
      "text/plain": [
       "Ttest_indResult(statistic=1.4835135849437482, pvalue=0.1380295748494135)"
      ]
     },
     "execution_count": 56,
     "metadata": {},
     "output_type": "execute_result"
    }
   ],
   "source": [
    "# Извлекаем значения среднего чека заказа для каждой группы\n",
    "group_0_order_values = merged_orders_users[(merged_orders_users['group'] == 0) & (merged_orders_users['action'] == 'create_order')]['order_total']\n",
    "group_1_order_values = merged_orders_users[(merged_orders_users['group'] == 1) & (merged_orders_users['action'] == 'create_order')]['order_total']\n",
    "\n",
    "# Проведение t-теста для сравнения средних двух независимых выборок\n",
    "t_test_result = stats.ttest_ind(group_0_order_values, group_1_order_values, equal_var=False)  # Welch's t-test\n",
    "\n",
    "t_test_result\n"
   ]
  },
  {
   "cell_type": "markdown",
   "metadata": {},
   "source": [
    "Выводы:\n",
    "\n",
    "t-значение показывает разницу между средними значениями двух групп. В данном случае t-значение равно 1.48, что указывает на некоторую разницу между группами.\n",
    "\n",
    "p-значение говорит нам о вероятности получить такие или еще более выраженные различия между группами, если бы на самом деле никаких различий не было (нулевая гипотеза). P-значение 0.138 превышает обычный порог статистической значимости (0.05), что означает, что мы не можем отвергнуть нулевую гипотезу о том, что средний чек заказа не различается между группами.\n",
    "\n",
    "На основе проведённого статистического анализа мы не можем утверждать, что внедрение новой системы рекомендаций оказало значимое влияние на средний чек заказа в приложении по доставке продуктов. Различия между контрольной и тестовой группами не являются статистически значимыми."
   ]
  },
  {
   "cell_type": "code",
   "execution_count": null,
   "metadata": {},
   "outputs": [],
   "source": []
  }
 ],
 "metadata": {
  "kernelspec": {
   "display_name": "Python 3",
   "language": "python",
   "name": "python3"
  },
  "language_info": {
   "codemirror_mode": {
    "name": "ipython",
    "version": 3
   },
   "file_extension": ".py",
   "mimetype": "text/x-python",
   "name": "python",
   "nbconvert_exporter": "python",
   "pygments_lexer": "ipython3",
   "version": "3.7.3"
  }
 },
 "nbformat": 4,
 "nbformat_minor": 4
}
