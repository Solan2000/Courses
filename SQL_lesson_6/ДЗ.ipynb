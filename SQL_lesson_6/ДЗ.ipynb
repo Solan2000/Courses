{
 "cells": [
  {
   "cell_type": "code",
   "execution_count": 84,
   "metadata": {},
   "outputs": [],
   "source": [
    "#импортируем нужные либы\n",
    "import pandahouse as ph\n",
    "import pandas as pd\n",
    "import seaborn as sns\n",
    "import matplotlib.pyplot as plt\n",
    "import numpy as np"
   ]
  },
  {
   "cell_type": "code",
   "execution_count": 23,
   "metadata": {},
   "outputs": [],
   "source": [
    "connection = {'host': 'https://clickhouse.lab.karpov.courses',\n",
    "                      'database':'default',\n",
    "                      'user':'student', \n",
    "                      'password':'dpo_python_2020'\n",
    "                     }"
   ]
  },
  {
   "cell_type": "code",
   "execution_count": 39,
   "metadata": {},
   "outputs": [
    {
     "data": {
      "text/html": [
       "<div>\n",
       "<style scoped>\n",
       "    .dataframe tbody tr th:only-of-type {\n",
       "        vertical-align: middle;\n",
       "    }\n",
       "\n",
       "    .dataframe tbody tr th {\n",
       "        vertical-align: top;\n",
       "    }\n",
       "\n",
       "    .dataframe thead th {\n",
       "        text-align: right;\n",
       "    }\n",
       "</style>\n",
       "<table border=\"1\" class=\"dataframe\">\n",
       "  <thead>\n",
       "    <tr style=\"text-align: right;\">\n",
       "      <th></th>\n",
       "      <th>room_type</th>\n",
       "      <th>price</th>\n",
       "    </tr>\n",
       "  </thead>\n",
       "  <tbody>\n",
       "    <tr>\n",
       "      <th>0</th>\n",
       "      <td>Entire home/apt</td>\n",
       "      <td>160.00</td>\n",
       "    </tr>\n",
       "    <tr>\n",
       "      <th>1</th>\n",
       "      <td>Hotel room</td>\n",
       "      <td>157.00</td>\n",
       "    </tr>\n",
       "    <tr>\n",
       "      <th>2</th>\n",
       "      <td>Private room</td>\n",
       "      <td>70.00</td>\n",
       "    </tr>\n",
       "    <tr>\n",
       "      <th>3</th>\n",
       "      <td>Shared room</td>\n",
       "      <td>69.25</td>\n",
       "    </tr>\n",
       "  </tbody>\n",
       "</table>\n",
       "</div>"
      ],
      "text/plain": [
       "         room_type   price\n",
       "0  Entire home/apt  160.00\n",
       "1       Hotel room  157.00\n",
       "2     Private room   70.00\n",
       "3      Shared room   69.25"
      ]
     },
     "execution_count": 39,
     "metadata": {},
     "output_type": "execute_result"
    }
   ],
   "source": [
    "#3 задание\n",
    "query = \"\"\"\n",
    "SELECT\n",
    "    room_type,\n",
    "    toFloat32OrNull(replaceRegexpAll(price, '[$,]', '')) as price\n",
    "FROM ldn_listings\n",
    "ORDER BY id\n",
    "LIMIT 1000\n",
    "\"\"\"\n",
    "df = ph.read_clickhouse(query, connection=connection)\n",
    "df.groupby('room_type',as_index=False).quantile(q=0.75)"
   ]
  },
  {
   "cell_type": "code",
   "execution_count": 53,
   "metadata": {},
   "outputs": [
    {
     "data": {
      "text/plain": [
       "<matplotlib.axes._subplots.AxesSubplot at 0x7f1c5076bda0>"
      ]
     },
     "execution_count": 53,
     "metadata": {},
     "output_type": "execute_result"
    },
    {
     "data": {
      "image/png": "[encoded data removed]",
      "text/plain": [
       "<Figure size 432x288 with 1 Axes>"
      ]
     },
     "metadata": {
      "needs_background": "light"
     },
     "output_type": "display_data"
    }
   ],
   "source": [
    "#4 задание\n",
    "query = \"\"\"\n",
    "SELECT\n",
    "    room_type,\n",
    "    toFloat32OrNull(replaceRegexpAll(price, '[$,]', '')) as price,\n",
    "    toFloat32OrNull(review_scores_rating) as review_scores_rating\n",
    "FROM ldn_listings\n",
    "WHERE review_scores_rating IS NOT NULL\n",
    "ORDER BY id DESC\n",
    "LIMIT 1000\n",
    "\"\"\"\n",
    "df = ph.read_clickhouse(query, connection=connection)\n",
    "grouped_df=df.groupby('room_type',as_index=False).agg({'price':'mean','review_scores_rating':'mean'})\n",
    "sns.scatterplot(data=grouped_df,x='price',y='review_scores_rating', hue='room_type')"
   ]
  },
  {
   "cell_type": "code",
   "execution_count": 65,
   "metadata": {},
   "outputs": [
    {
     "data": {
      "text/plain": [
       "host_verifications\n",
       "phone                    1361\n",
       "email                    1345\n",
       "reviews                  1309\n",
       "government_id            1196\n",
       "jumio                    1115\n",
       "offline_government_id     469\n",
       "work_email                279\n",
       "facebook                  270\n",
       "selfie                    252\n",
       "identity_manual           227\n",
       "manual_offline             70\n",
       "google                     34\n",
       "kba                        27\n",
       "manual_online              16\n",
       "sent_id                     6\n",
       "dtype: int64"
      ]
     },
     "execution_count": 65,
     "metadata": {},
     "output_type": "execute_result"
    }
   ],
   "source": [
    "#5 задание\n",
    "query = \"\"\"\n",
    "SELECT\n",
    "    DISTINCT host_id,\n",
    "    host_verifications\n",
    "FROM ldn_listings\n",
    "WHERE experiences_offered != 'none'\n",
    "\"\"\"\n",
    "df = ph.read_clickhouse(query, connection=connection)\n",
    "df[\"host_verifications\"]=df[\"host_verifications\"].apply(lambda x: x.strip(\"[]\").replace(\"'\", \"\").split(\", \"))\n",
    "df.explode('host_verifications').value_counts('host_verifications')"
   ]
  },
  {
   "cell_type": "code",
   "execution_count": 77,
   "metadata": {},
   "outputs": [
    {
     "data": {
      "text/plain": [
       "<matplotlib.axes._subplots.AxesSubplot at 0x7f1c50438c18>"
      ]
     },
     "execution_count": 77,
     "metadata": {},
     "output_type": "execute_result"
    },
    {
     "data": {
      "image/png": "[encoded data removed]",
      "text/plain": [
       "<Figure size 432x288 with 2 Axes>"
      ]
     },
     "metadata": {
      "needs_background": "light"
     },
     "output_type": "display_data"
    }
   ],
   "source": [
    "#6 задание\n",
    "query = \"\"\"\n",
    "SELECT\n",
    "    neighbourhood_cleansed,\n",
    "    experiences_offered,\n",
    "    count(experiences_offered) as experiences_count\n",
    "FROM ldn_listings\n",
    "WHERE experiences_offered != 'none'\n",
    "GROUP BY neighbourhood_cleansed, experiences_offered\n",
    "ORDER BY experiences_count DESC\n",
    "LIMIT 100\n",
    "\"\"\"\n",
    "df = ph.read_clickhouse(query, connection=connection)\n",
    "new_df=df.pivot(index='neighbourhood_cleansed', columns='experiences_offered', values='experiences_count')\n",
    "sns.heatmap(new_df,cmap=sns.cubehelix_palette(as_cmap=True))"
   ]
  },
  {
   "cell_type": "code",
   "execution_count": 95,
   "metadata": {},
   "outputs": [
    {
     "data": {
      "image/png": "[encoded data removed]",
      "text/plain": [
       "<Figure size 864x432 with 1 Axes>"
      ]
     },
     "metadata": {
      "needs_background": "light"
     },
     "output_type": "display_data"
    },
    {
     "data": {
      "image/png": "[encoded data removed]",
      "text/plain": [
       "<Figure size 864x432 with 1 Axes>"
      ]
     },
     "metadata": {
      "needs_background": "light"
     },
     "output_type": "display_data"
    }
   ],
   "source": [
    "#7 задание\n",
    "query = \"\"\"\n",
    "SELECT\n",
    "    room_type,\n",
    "    toFloat32OrNull(replaceRegexpAll(price, '[$,]', '')) as price_corr\n",
    "FROM ldn_listings\n",
    "WHERE experiences_offered != 'none'\n",
    "\"\"\"\n",
    "df = ph.read_clickhouse(query, connection=connection)\n",
    "plt.figure(figsize=(12, 6))\n",
    "sns.distplot(df.query(\"room_type=='Entire home/apt'\").price_corr, kde=False, label='Entire home/apt')\n",
    "sns.distplot(df.query(\"room_type=='Private room'\").price_corr, kde=False, label='Private room')\n",
    "sns.distplot(df.query(\"room_type=='Shared room'\").price_corr, kde=False, label='Shared room')\n",
    "sns.distplot(df.query(\"room_type=='Hotel room'\").price_corr, kde=False, label='Hotel room')\n",
    "plt.legend()\n",
    "plt.show()\n",
    "plt.figure(figsize=(12, 6))\n",
    "sns.distplot(np.log(df.query(\"room_type=='Entire home/apt'\").price_corr), kde=False, label='Entire home/apt')\n",
    "sns.distplot(np.log(df.query(\"room_type=='Private room'\").price_corr), kde=False, label='Private room')\n",
    "sns.distplot(np.log(df.query(\"room_type=='Shared room'\").price_corr), kde=False, label='Shared room')\n",
    "sns.distplot(np.log(df.query(\"room_type=='Hotel room'\").price_corr), kde=False, label='Hotel room')\n",
    "plt.legend()\n",
    "plt.show()"
   ]
  },
  {
   "cell_type": "code",
   "execution_count": 115,
   "metadata": {},
   "outputs": [
    {
     "data": {
      "text/html": [
       "<div>\n",
       "<style scoped>\n",
       "    .dataframe tbody tr th:only-of-type {\n",
       "        vertical-align: middle;\n",
       "    }\n",
       "\n",
       "    .dataframe tbody tr th {\n",
       "        vertical-align: top;\n",
       "    }\n",
       "\n",
       "    .dataframe thead th {\n",
       "        text-align: right;\n",
       "    }\n",
       "</style>\n",
       "<table border=\"1\" class=\"dataframe\">\n",
       "  <thead>\n",
       "    <tr style=\"text-align: right;\">\n",
       "      <th></th>\n",
       "      <th>room_type</th>\n",
       "      <th>first_review</th>\n",
       "      <th>price_corr</th>\n",
       "    </tr>\n",
       "  </thead>\n",
       "  <tbody>\n",
       "    <tr>\n",
       "      <th>0</th>\n",
       "      <td>Entire home/apt</td>\n",
       "      <td>2010</td>\n",
       "      <td>103.500000</td>\n",
       "    </tr>\n",
       "    <tr>\n",
       "      <th>13</th>\n",
       "      <td>Private room</td>\n",
       "      <td>2010</td>\n",
       "      <td>56.428570</td>\n",
       "    </tr>\n",
       "    <tr>\n",
       "      <th>11</th>\n",
       "      <td>Hotel room</td>\n",
       "      <td>2010</td>\n",
       "      <td>88.000000</td>\n",
       "    </tr>\n",
       "    <tr>\n",
       "      <th>1</th>\n",
       "      <td>Entire home/apt</td>\n",
       "      <td>2011</td>\n",
       "      <td>128.792450</td>\n",
       "    </tr>\n",
       "    <tr>\n",
       "      <th>14</th>\n",
       "      <td>Private room</td>\n",
       "      <td>2011</td>\n",
       "      <td>52.607143</td>\n",
       "    </tr>\n",
       "    <tr>\n",
       "      <th>2</th>\n",
       "      <td>Entire home/apt</td>\n",
       "      <td>2012</td>\n",
       "      <td>135.467255</td>\n",
       "    </tr>\n",
       "    <tr>\n",
       "      <th>15</th>\n",
       "      <td>Private room</td>\n",
       "      <td>2012</td>\n",
       "      <td>53.269840</td>\n",
       "    </tr>\n",
       "    <tr>\n",
       "      <th>24</th>\n",
       "      <td>Shared room</td>\n",
       "      <td>2012</td>\n",
       "      <td>22.000000</td>\n",
       "    </tr>\n",
       "    <tr>\n",
       "      <th>3</th>\n",
       "      <td>Entire home/apt</td>\n",
       "      <td>2013</td>\n",
       "      <td>137.887634</td>\n",
       "    </tr>\n",
       "    <tr>\n",
       "      <th>16</th>\n",
       "      <td>Private room</td>\n",
       "      <td>2013</td>\n",
       "      <td>57.036587</td>\n",
       "    </tr>\n",
       "    <tr>\n",
       "      <th>17</th>\n",
       "      <td>Private room</td>\n",
       "      <td>2014</td>\n",
       "      <td>56.842106</td>\n",
       "    </tr>\n",
       "    <tr>\n",
       "      <th>25</th>\n",
       "      <td>Shared room</td>\n",
       "      <td>2014</td>\n",
       "      <td>20.000000</td>\n",
       "    </tr>\n",
       "    <tr>\n",
       "      <th>4</th>\n",
       "      <td>Entire home/apt</td>\n",
       "      <td>2014</td>\n",
       "      <td>154.583328</td>\n",
       "    </tr>\n",
       "    <tr>\n",
       "      <th>5</th>\n",
       "      <td>Entire home/apt</td>\n",
       "      <td>2015</td>\n",
       "      <td>159.380951</td>\n",
       "    </tr>\n",
       "    <tr>\n",
       "      <th>18</th>\n",
       "      <td>Private room</td>\n",
       "      <td>2015</td>\n",
       "      <td>48.058823</td>\n",
       "    </tr>\n",
       "    <tr>\n",
       "      <th>6</th>\n",
       "      <td>Entire home/apt</td>\n",
       "      <td>2016</td>\n",
       "      <td>99.733330</td>\n",
       "    </tr>\n",
       "    <tr>\n",
       "      <th>19</th>\n",
       "      <td>Private room</td>\n",
       "      <td>2016</td>\n",
       "      <td>57.307693</td>\n",
       "    </tr>\n",
       "    <tr>\n",
       "      <th>7</th>\n",
       "      <td>Entire home/apt</td>\n",
       "      <td>2017</td>\n",
       "      <td>111.666664</td>\n",
       "    </tr>\n",
       "    <tr>\n",
       "      <th>20</th>\n",
       "      <td>Private room</td>\n",
       "      <td>2017</td>\n",
       "      <td>51.142857</td>\n",
       "    </tr>\n",
       "    <tr>\n",
       "      <th>12</th>\n",
       "      <td>Hotel room</td>\n",
       "      <td>2017</td>\n",
       "      <td>180.000000</td>\n",
       "    </tr>\n",
       "    <tr>\n",
       "      <th>8</th>\n",
       "      <td>Entire home/apt</td>\n",
       "      <td>2018</td>\n",
       "      <td>125.066666</td>\n",
       "    </tr>\n",
       "    <tr>\n",
       "      <th>21</th>\n",
       "      <td>Private room</td>\n",
       "      <td>2018</td>\n",
       "      <td>55.416668</td>\n",
       "    </tr>\n",
       "    <tr>\n",
       "      <th>9</th>\n",
       "      <td>Entire home/apt</td>\n",
       "      <td>2019</td>\n",
       "      <td>301.666656</td>\n",
       "    </tr>\n",
       "    <tr>\n",
       "      <th>22</th>\n",
       "      <td>Private room</td>\n",
       "      <td>2019</td>\n",
       "      <td>74.000000</td>\n",
       "    </tr>\n",
       "    <tr>\n",
       "      <th>23</th>\n",
       "      <td>Private room</td>\n",
       "      <td>2020</td>\n",
       "      <td>39.000000</td>\n",
       "    </tr>\n",
       "    <tr>\n",
       "      <th>10</th>\n",
       "      <td>Entire home/apt</td>\n",
       "      <td>2020</td>\n",
       "      <td>50.000000</td>\n",
       "    </tr>\n",
       "  </tbody>\n",
       "</table>\n",
       "</div>"
      ],
      "text/plain": [
       "          room_type first_review  price_corr\n",
       "0   Entire home/apt         2010  103.500000\n",
       "13     Private room         2010   56.428570\n",
       "11       Hotel room         2010   88.000000\n",
       "1   Entire home/apt         2011  128.792450\n",
       "14     Private room         2011   52.607143\n",
       "2   Entire home/apt         2012  135.467255\n",
       "15     Private room         2012   53.269840\n",
       "24      Shared room         2012   22.000000\n",
       "3   Entire home/apt         2013  137.887634\n",
       "16     Private room         2013   57.036587\n",
       "17     Private room         2014   56.842106\n",
       "25      Shared room         2014   20.000000\n",
       "4   Entire home/apt         2014  154.583328\n",
       "5   Entire home/apt         2015  159.380951\n",
       "18     Private room         2015   48.058823\n",
       "6   Entire home/apt         2016   99.733330\n",
       "19     Private room         2016   57.307693\n",
       "7   Entire home/apt         2017  111.666664\n",
       "20     Private room         2017   51.142857\n",
       "12       Hotel room         2017  180.000000\n",
       "8   Entire home/apt         2018  125.066666\n",
       "21     Private room         2018   55.416668\n",
       "9   Entire home/apt         2019  301.666656\n",
       "22     Private room         2019   74.000000\n",
       "23     Private room         2020   39.000000\n",
       "10  Entire home/apt         2020   50.000000"
      ]
     },
     "execution_count": 115,
     "metadata": {},
     "output_type": "execute_result"
    }
   ],
   "source": [
    "#8 задание\n",
    "query = \"\"\"\n",
    "SELECT\n",
    "    room_type,\n",
    "    toFloat32OrNull(replaceRegexpAll(price, '[$,]', '')) as price_corr,\n",
    "    first_review\n",
    "FROM ldn_listings\n",
    "WHERE first_review > '2010-01-01'\n",
    "LIMIT 1000\n",
    "\"\"\"\n",
    "df = ph.read_clickhouse(query, connection=connection)\n",
    "df[\"first_review\"]=df[\"first_review\"].apply(lambda x: x[:-6])\n",
    "df_for_line=df.groupby([\"room_type\",\"first_review\"]).agg({'price_corr':'mean'}).reset_index().sort_values('first_review',ascending=True)\n",
    "df_for_line"
   ]
  },
  {
   "cell_type": "code",
   "execution_count": 111,
   "metadata": {},
   "outputs": [
    {
     "data": {
      "text/html": [
       "<div>\n",
       "<style scoped>\n",
       "    .dataframe tbody tr th:only-of-type {\n",
       "        vertical-align: middle;\n",
       "    }\n",
       "\n",
       "    .dataframe tbody tr th {\n",
       "        vertical-align: top;\n",
       "    }\n",
       "\n",
       "    .dataframe thead th {\n",
       "        text-align: right;\n",
       "    }\n",
       "</style>\n",
       "<table border=\"1\" class=\"dataframe\">\n",
       "  <thead>\n",
       "    <tr style=\"text-align: right;\">\n",
       "      <th></th>\n",
       "      <th>room_type</th>\n",
       "      <th>price_corr</th>\n",
       "      <th>first_review</th>\n",
       "    </tr>\n",
       "  </thead>\n",
       "  <tbody>\n",
       "    <tr>\n",
       "      <th>0</th>\n",
       "      <td>Private room</td>\n",
       "      <td>65.0</td>\n",
       "      <td>2010</td>\n",
       "    </tr>\n",
       "    <tr>\n",
       "      <th>1</th>\n",
       "      <td>Entire home/apt</td>\n",
       "      <td>300.0</td>\n",
       "      <td>2011</td>\n",
       "    </tr>\n",
       "    <tr>\n",
       "      <th>2</th>\n",
       "      <td>Entire home/apt</td>\n",
       "      <td>65.0</td>\n",
       "      <td>2016</td>\n",
       "    </tr>\n",
       "    <tr>\n",
       "      <th>3</th>\n",
       "      <td>Private room</td>\n",
       "      <td>29.0</td>\n",
       "      <td>2010</td>\n",
       "    </tr>\n",
       "    <tr>\n",
       "      <th>4</th>\n",
       "      <td>Private room</td>\n",
       "      <td>100.0</td>\n",
       "      <td>2010</td>\n",
       "    </tr>\n",
       "    <tr>\n",
       "      <th>...</th>\n",
       "      <td>...</td>\n",
       "      <td>...</td>\n",
       "      <td>...</td>\n",
       "    </tr>\n",
       "    <tr>\n",
       "      <th>995</th>\n",
       "      <td>Private room</td>\n",
       "      <td>45.0</td>\n",
       "      <td>2012</td>\n",
       "    </tr>\n",
       "    <tr>\n",
       "      <th>996</th>\n",
       "      <td>Private room</td>\n",
       "      <td>51.0</td>\n",
       "      <td>2013</td>\n",
       "    </tr>\n",
       "    <tr>\n",
       "      <th>997</th>\n",
       "      <td>Entire home/apt</td>\n",
       "      <td>79.0</td>\n",
       "      <td>2012</td>\n",
       "    </tr>\n",
       "    <tr>\n",
       "      <th>998</th>\n",
       "      <td>Entire home/apt</td>\n",
       "      <td>110.0</td>\n",
       "      <td>2012</td>\n",
       "    </tr>\n",
       "    <tr>\n",
       "      <th>999</th>\n",
       "      <td>Private room</td>\n",
       "      <td>70.0</td>\n",
       "      <td>2012</td>\n",
       "    </tr>\n",
       "  </tbody>\n",
       "</table>\n",
       "<p>1000 rows × 3 columns</p>\n",
       "</div>"
      ],
      "text/plain": [
       "           room_type  price_corr first_review\n",
       "0       Private room        65.0         2010\n",
       "1    Entire home/apt       300.0         2011\n",
       "2    Entire home/apt        65.0         2016\n",
       "3       Private room        29.0         2010\n",
       "4       Private room       100.0         2010\n",
       "..               ...         ...          ...\n",
       "995     Private room        45.0         2012\n",
       "996     Private room        51.0         2013\n",
       "997  Entire home/apt        79.0         2012\n",
       "998  Entire home/apt       110.0         2012\n",
       "999     Private room        70.0         2012\n",
       "\n",
       "[1000 rows x 3 columns]"
      ]
     },
     "execution_count": 111,
     "metadata": {},
     "output_type": "execute_result"
    }
   ],
   "source": [
    "df"
   ]
  },
  {
   "cell_type": "code",
   "execution_count": null,
   "metadata": {},
   "outputs": [],
   "source": [
    "#выгружаем данные из pandas в excel\n",
    "df.to_excel(\"./ch_data.xlsx\", sheet_name='Data', index=False, encoding='UTF-8')"
   ]
  },
  {
   "cell_type": "code",
   "execution_count": null,
   "metadata": {},
   "outputs": [],
   "source": []
  },
  {
   "cell_type": "code",
   "execution_count": null,
   "metadata": {},
   "outputs": [],
   "source": [
    "#читаем данные из csv в pandas\n",
    "df_in = pd.read_csv(\"./medium.csv\", sep='\\t')\n",
    "df_in"
   ]
  },
  {
   "cell_type": "code",
   "execution_count": null,
   "metadata": {},
   "outputs": [],
   "source": [
    "#пишем запрос, и получаем данные из clickhouse в pandas dataframe\n",
    "query_create = \"\"\"\n",
    "CREATE TABLE test.beslan_import_test (\n",
    "    published String,\n",
    "    domain String,\n",
    "    url String\n",
    ")\n",
    "ENGINE = Log\n",
    "\"\"\"\n",
    "df_create = ph.read_clickhouse(query_create, connection=connection)\n",
    "df_create"
   ]
  },
  {
   "cell_type": "code",
   "execution_count": null,
   "metadata": {},
   "outputs": [],
   "source": [
    "#записываем данные из pandas в clickhouse\n",
    "ph.to_clickhouse(df_in, 'beslan_import_test', index=False, connection=connection)"
   ]
  },
  {
   "cell_type": "code",
   "execution_count": null,
   "metadata": {},
   "outputs": [],
   "source": [
    "#проверяем, что записалось\n",
    "query_test = \"\"\"\n",
    "SELECT *\n",
    "FROM test.beslan_import_test\n",
    "\"\"\"\n",
    "df_new = ph.read_clickhouse(query_test, connection=connection)\n",
    "df_new"
   ]
  },
  {
   "cell_type": "code",
   "execution_count": null,
   "metadata": {},
   "outputs": [],
   "source": []
  }
 ],
 "metadata": {
  "kernelspec": {
   "display_name": "Python 3",
   "language": "python",
   "name": "python3"
  },
  "language_info": {
   "codemirror_mode": {
    "name": "ipython",
    "version": 3
   },
   "file_extension": ".py",
   "mimetype": "text/x-python",
   "name": "python",
   "nbconvert_exporter": "python",
   "pygments_lexer": "ipython3",
   "version": "3.7.3"
  }
 },
 "nbformat": 4,
 "nbformat_minor": 4
}
