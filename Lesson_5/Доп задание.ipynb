{
 "cells": [
  {
   "cell_type": "code",
   "execution_count": 2,
   "metadata": {},
   "outputs": [
    {
     "data": {
      "text/plain": [
       "'id2185490, id4651830, id5416547, id7642700'"
      ]
     },
     "execution_count": 2,
     "metadata": {},
     "output_type": "execute_result"
    }
   ],
   "source": [
    "import pandas as pd\n",
    "\n",
    "# Функции для предобработки данных\n",
    "def add_id_prefix(subs_id):\n",
    "    return f'id{subs_id}' if not str(subs_id).startswith('id') else subs_id\n",
    "\n",
    "def convert_date_format(date_string):\n",
    "    try:\n",
    "        return pd.to_datetime(date_string, format='%d-%m-%Y %H:%M')\n",
    "    except:\n",
    "        return pd.NaT\n",
    "\n",
    "# Загрузка файлов продаж и логов активаций\n",
    "sales_file_1_path = '/mnt/HC_Volume_18315164/home-jupyter/jupyter-a-zakorko/shared/homeworks/python_ds_miniprojects/5_subsid/subsid/tm_sales_1.csv'\n",
    "sales_file_2_path = '/mnt/HC_Volume_18315164/home-jupyter/jupyter-a-zakorko/shared/homeworks/python_ds_miniprojects/5_subsid/subsid/tm_sales_2.csv'\n",
    "sales_file_3_path = '/mnt/HC_Volume_18315164/home-jupyter/jupyter-a-zakorko/shared/homeworks/python_ds_miniprojects/5_subsid/subsid/tm_sales_3.csv'\n",
    "activations_logs_path = '/mnt/HC_Volume_18315164/home-jupyter/jupyter-a-zakorko/shared/homeworks/python_ds_miniprojects/5_subsid/subsid/prod_activations_logs.csv'\n",
    "\n",
    "sales_data_1 = pd.read_csv(sales_file_1_path, sep=';')\n",
    "sales_data_2 = pd.read_csv(sales_file_2_path, sep=';')\n",
    "sales_data_3 = pd.read_csv(sales_file_3_path, sep=';')\n",
    "activations_logs_data = pd.read_csv(activations_logs_path, sep=';')\n",
    "\n",
    "# Предобработка данных продаж\n",
    "sales_data_1['SUBS_ID'] = sales_data_1['SUBS_ID'].apply(add_id_prefix)\n",
    "sales_data_2['SUBS_ID'] = sales_data_2['SUBS_ID'].apply(add_id_prefix)\n",
    "sales_data_3['SUBS_ID'] = sales_data_3['SUBS_ID'].apply(add_id_prefix)\n",
    "\n",
    "sales_data_1.dropna(subset=['SUBS_ID'], inplace=True)\n",
    "sales_data_2.dropna(subset=['SUBS_ID'], inplace=True)\n",
    "sales_data_3.dropna(subset=['SUBS_ID'], inplace=True)\n",
    "\n",
    "sales_data_1['ACT_DTTM'] = sales_data_1['ACT_DTTM'].apply(convert_date_format)\n",
    "sales_data_2['ACT_DTTM'] = sales_data_2['ACT_DTTM'].apply(convert_date_format)\n",
    "sales_data_3['ACT_DTTM'] = sales_data_3['ACT_DTTM'].apply(convert_date_format)\n",
    "\n",
    "# Предобработка данных логов активаций\n",
    "activations_logs_data['START_DTTM'] = activations_logs_data['START_DTTM'].apply(convert_date_format)\n",
    "activations_logs_data['END_DTTM'] = activations_logs_data['END_DTTM'].apply(convert_date_format)\n",
    "\n",
    "# Объединение файлов продаж\n",
    "combined_sales_data = pd.concat([sales_data_1, sales_data_2, sales_data_3], ignore_index=True)\n",
    "\n",
    "# Объединение данных продаж с логами активаций\n",
    "merged_data = pd.merge(combined_sales_data, activations_logs_data, on=['SUBS_ID', 'PROD_ID'], how='inner')\n",
    "\n",
    "# Расчет разницы между START_DTTM и END_DTTM\n",
    "merged_data['difference'] = merged_data['END_DTTM'] - merged_data['START_DTTM']\n",
    "\n",
    "# Фильтрация продаж, где разница меньше 5 минут\n",
    "filtered_data = merged_data[merged_data['difference'] >= pd.Timedelta(minutes=5)]\n",
    "\n",
    "# Получение и сортировка SUBS_ID из отфильтрованных данных\n",
    "sorted_subs_ids = sorted(filtered_data['SUBS_ID'].unique())\n",
    "sorted_subs_ids_str = ', '.join(sorted_subs_ids)\n",
    "\n",
    "sorted_subs_ids_str\n"
   ]
  },
  {
   "cell_type": "code",
   "execution_count": null,
   "metadata": {},
   "outputs": [],
   "source": []
  },
  {
   "cell_type": "code",
   "execution_count": null,
   "metadata": {},
   "outputs": [],
   "source": []
  }
 ],
 "metadata": {
  "kernelspec": {
   "display_name": "Python 3",
   "language": "python",
   "name": "python3"
  },
  "language_info": {
   "codemirror_mode": {
    "name": "ipython",
    "version": 3
   },
   "file_extension": ".py",
   "mimetype": "text/x-python",
   "name": "python",
   "nbconvert_exporter": "python",
   "pygments_lexer": "ipython3",
   "version": "3.7.3"
  }
 },
 "nbformat": 4,
 "nbformat_minor": 4
}
