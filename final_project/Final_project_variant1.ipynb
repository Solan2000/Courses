{
 "cells": [
  {
   "cell_type": "code",
   "execution_count": 71,
   "metadata": {},
   "outputs": [],
   "source": [
    "import pandas as pd"
   ]
  },
  {
   "cell_type": "code",
   "execution_count": 83,
   "metadata": {},
   "outputs": [],
   "source": [
    "# Загрузка данных о времени регистрации\n",
    "reg_data = pd.read_csv('/mnt/HC_Volume_18315164/home-jupyter/jupyter-a-zakorko/shared/problem1-reg_data.csv',sep=';')\n",
    "\n",
    "# Загрузка данных о времени захода пользователей в игру\n",
    "auth_data = pd.read_csv('/mnt/HC_Volume_18315164/home-jupyter/jupyter-a-zakorko/shared/problem1-auth_data.csv',sep=';')"
   ]
  },
  {
   "cell_type": "markdown",
   "metadata": {},
   "source": [
    "Просмотрим загруженные нами данные"
   ]
  },
  {
   "cell_type": "code",
   "execution_count": 73,
   "metadata": {},
   "outputs": [
    {
     "data": {
      "text/html": [
       "<div>\n",
       "<style scoped>\n",
       "    .dataframe tbody tr th:only-of-type {\n",
       "        vertical-align: middle;\n",
       "    }\n",
       "\n",
       "    .dataframe tbody tr th {\n",
       "        vertical-align: top;\n",
       "    }\n",
       "\n",
       "    .dataframe thead th {\n",
       "        text-align: right;\n",
       "    }\n",
       "</style>\n",
       "<table border=\"1\" class=\"dataframe\">\n",
       "  <thead>\n",
       "    <tr style=\"text-align: right;\">\n",
       "      <th></th>\n",
       "      <th>reg_ts</th>\n",
       "      <th>uid</th>\n",
       "    </tr>\n",
       "  </thead>\n",
       "  <tbody>\n",
       "    <tr>\n",
       "      <th>0</th>\n",
       "      <td>911382223</td>\n",
       "      <td>1</td>\n",
       "    </tr>\n",
       "    <tr>\n",
       "      <th>1</th>\n",
       "      <td>932683089</td>\n",
       "      <td>2</td>\n",
       "    </tr>\n",
       "    <tr>\n",
       "      <th>2</th>\n",
       "      <td>947802447</td>\n",
       "      <td>3</td>\n",
       "    </tr>\n",
       "    <tr>\n",
       "      <th>3</th>\n",
       "      <td>959523541</td>\n",
       "      <td>4</td>\n",
       "    </tr>\n",
       "    <tr>\n",
       "      <th>4</th>\n",
       "      <td>969103313</td>\n",
       "      <td>5</td>\n",
       "    </tr>\n",
       "  </tbody>\n",
       "</table>\n",
       "</div>"
      ],
      "text/plain": [
       "      reg_ts  uid\n",
       "0  911382223    1\n",
       "1  932683089    2\n",
       "2  947802447    3\n",
       "3  959523541    4\n",
       "4  969103313    5"
      ]
     },
     "execution_count": 73,
     "metadata": {},
     "output_type": "execute_result"
    }
   ],
   "source": [
    "reg_data.head()"
   ]
  },
  {
   "cell_type": "code",
   "execution_count": 74,
   "metadata": {},
   "outputs": [
    {
     "data": {
      "text/html": [
       "<div>\n",
       "<style scoped>\n",
       "    .dataframe tbody tr th:only-of-type {\n",
       "        vertical-align: middle;\n",
       "    }\n",
       "\n",
       "    .dataframe tbody tr th {\n",
       "        vertical-align: top;\n",
       "    }\n",
       "\n",
       "    .dataframe thead th {\n",
       "        text-align: right;\n",
       "    }\n",
       "</style>\n",
       "<table border=\"1\" class=\"dataframe\">\n",
       "  <thead>\n",
       "    <tr style=\"text-align: right;\">\n",
       "      <th></th>\n",
       "      <th>auth_ts</th>\n",
       "      <th>uid</th>\n",
       "    </tr>\n",
       "  </thead>\n",
       "  <tbody>\n",
       "    <tr>\n",
       "      <th>0</th>\n",
       "      <td>911382223</td>\n",
       "      <td>1</td>\n",
       "    </tr>\n",
       "    <tr>\n",
       "      <th>1</th>\n",
       "      <td>932683089</td>\n",
       "      <td>2</td>\n",
       "    </tr>\n",
       "    <tr>\n",
       "      <th>2</th>\n",
       "      <td>932921206</td>\n",
       "      <td>2</td>\n",
       "    </tr>\n",
       "    <tr>\n",
       "      <th>3</th>\n",
       "      <td>933393015</td>\n",
       "      <td>2</td>\n",
       "    </tr>\n",
       "    <tr>\n",
       "      <th>4</th>\n",
       "      <td>933875379</td>\n",
       "      <td>2</td>\n",
       "    </tr>\n",
       "  </tbody>\n",
       "</table>\n",
       "</div>"
      ],
      "text/plain": [
       "     auth_ts  uid\n",
       "0  911382223    1\n",
       "1  932683089    2\n",
       "2  932921206    2\n",
       "3  933393015    2\n",
       "4  933875379    2"
      ]
     },
     "execution_count": 74,
     "metadata": {},
     "output_type": "execute_result"
    }
   ],
   "source": [
    "auth_data.head()"
   ]
  },
  {
   "cell_type": "markdown",
   "metadata": {},
   "source": [
    "Видим что данные представленны в виде временных меток, преобразуем их в даты"
   ]
  },
  {
   "cell_type": "code",
   "execution_count": 86,
   "metadata": {},
   "outputs": [],
   "source": [
    "from datetime import datetime, timedelta\n",
    "reg_data['reg_date'] = pd.to_datetime(reg_data['reg_ts'], unit='s').dt.date\n",
    "auth_data['auth_date'] = pd.to_datetime(auth_data['auth_ts'], unit='s').dt.date"
   ]
  },
  {
   "cell_type": "code",
   "execution_count": 76,
   "metadata": {},
   "outputs": [
    {
     "data": {
      "text/plain": [
       "(            reg_ts      uid    reg_date\n",
       " 0        911382223        1  1998-11-18\n",
       " 1        932683089        2  1999-07-22\n",
       " 2        947802447        3  2000-01-13\n",
       " 3        959523541        4  2000-05-28\n",
       " 4        969103313        5  2000-09-16\n",
       " ...            ...      ...         ...\n",
       " 999995  1600874034  1110618  2020-09-23\n",
       " 999996  1600874086  1110619  2020-09-23\n",
       " 999997  1600874139  1110620  2020-09-23\n",
       " 999998  1600874191  1110621  2020-09-23\n",
       " 999999  1600874244  1110622  2020-09-23\n",
       " \n",
       " [1000000 rows x 3 columns],\n",
       "             auth_ts      uid   auth_date\n",
       " 0         911382223        1  1998-11-18\n",
       " 1         932683089        2  1999-07-22\n",
       " 2         932921206        2  1999-07-25\n",
       " 3         933393015        2  1999-07-31\n",
       " 4         933875379        2  1999-08-05\n",
       " ...             ...      ...         ...\n",
       " 9601008  1600874034  1110618  2020-09-23\n",
       " 9601009  1600874086  1110619  2020-09-23\n",
       " 9601010  1600874139  1110620  2020-09-23\n",
       " 9601011  1600874191  1110621  2020-09-23\n",
       " 9601012  1600874244  1110622  2020-09-23\n",
       " \n",
       " [9601013 rows x 3 columns])"
      ]
     },
     "execution_count": 76,
     "metadata": {},
     "output_type": "execute_result"
    }
   ],
   "source": [
    "reg_data,auth_data"
   ]
  },
  {
   "cell_type": "markdown",
   "metadata": {},
   "source": [
    "Выполним проверку на пустые строки"
   ]
  },
  {
   "cell_type": "code",
   "execution_count": 84,
   "metadata": {},
   "outputs": [
    {
     "data": {
      "text/plain": [
       "reg_ts    0\n",
       "uid       0\n",
       "dtype: int64"
      ]
     },
     "execution_count": 84,
     "metadata": {},
     "output_type": "execute_result"
    }
   ],
   "source": [
    "reg_data.isnull().sum()"
   ]
  },
  {
   "cell_type": "code",
   "execution_count": 85,
   "metadata": {},
   "outputs": [
    {
     "data": {
      "text/plain": [
       "auth_ts    0\n",
       "uid        0\n",
       "dtype: int64"
      ]
     },
     "execution_count": 85,
     "metadata": {},
     "output_type": "execute_result"
    }
   ],
   "source": [
    "auth_data.isnull().sum()"
   ]
  },
  {
   "cell_type": "markdown",
   "metadata": {},
   "source": [
    "Далее напишем функцию для подсчета Retention"
   ]
  },
  {
   "cell_type": "code",
   "execution_count": 69,
   "metadata": {},
   "outputs": [],
   "source": [
    "from datetime import datetime, timedelta\n",
    "\n",
    "def calculate_retention(reg_data, auth_data):\n",
    "    \n",
    "    # Слияние данных о регистрации и заходах по uid\n",
    "    merged_data = pd.merge(auth_data, reg_data, on='uid')\n",
    "    \n",
    "    # Вычисление разницы в днях между заходом и регистрацией\n",
    "    merged_data['days_since_reg'] = (merged_data['auth_date'] - merged_data['reg_date']).dt.days\n",
    "    \n",
    "    # Подсчет retention по дням\n",
    "    retention = (merged_data.groupby('days_since_reg')['uid'].nunique() / reg_data['uid'].nunique())*100\n",
    "    \n",
    "    return retention.reset_index().rename(columns={'uid': 'retention_rate'})"
   ]
  },
  {
   "cell_type": "code",
   "execution_count": 70,
   "metadata": {},
   "outputs": [],
   "source": [
    "# Вызов функции\n",
    "retention=calculate_retention(reg_data, auth_data)"
   ]
  },
  {
   "cell_type": "code",
   "execution_count": 45,
   "metadata": {},
   "outputs": [
    {
     "data": {
      "text/html": [
       "<div>\n",
       "<style scoped>\n",
       "    .dataframe tbody tr th:only-of-type {\n",
       "        vertical-align: middle;\n",
       "    }\n",
       "\n",
       "    .dataframe tbody tr th {\n",
       "        vertical-align: top;\n",
       "    }\n",
       "\n",
       "    .dataframe thead th {\n",
       "        text-align: right;\n",
       "    }\n",
       "</style>\n",
       "<table border=\"1\" class=\"dataframe\">\n",
       "  <thead>\n",
       "    <tr style=\"text-align: right;\">\n",
       "      <th></th>\n",
       "      <th>days_since_reg</th>\n",
       "      <th>retention_rate</th>\n",
       "    </tr>\n",
       "  </thead>\n",
       "  <tbody>\n",
       "    <tr>\n",
       "      <th>0</th>\n",
       "      <td>0</td>\n",
       "      <td>100.0000</td>\n",
       "    </tr>\n",
       "    <tr>\n",
       "      <th>1</th>\n",
       "      <td>1</td>\n",
       "      <td>2.0071</td>\n",
       "    </tr>\n",
       "    <tr>\n",
       "      <th>2</th>\n",
       "      <td>2</td>\n",
       "      <td>4.0997</td>\n",
       "    </tr>\n",
       "    <tr>\n",
       "      <th>3</th>\n",
       "      <td>3</td>\n",
       "      <td>4.6338</td>\n",
       "    </tr>\n",
       "    <tr>\n",
       "      <th>4</th>\n",
       "      <td>4</td>\n",
       "      <td>5.2258</td>\n",
       "    </tr>\n",
       "    <tr>\n",
       "      <th>...</th>\n",
       "      <td>...</td>\n",
       "      <td>...</td>\n",
       "    </tr>\n",
       "    <tr>\n",
       "      <th>5911</th>\n",
       "      <td>7716</td>\n",
       "      <td>0.0001</td>\n",
       "    </tr>\n",
       "    <tr>\n",
       "      <th>5912</th>\n",
       "      <td>7720</td>\n",
       "      <td>0.0001</td>\n",
       "    </tr>\n",
       "    <tr>\n",
       "      <th>5913</th>\n",
       "      <td>7721</td>\n",
       "      <td>0.0001</td>\n",
       "    </tr>\n",
       "    <tr>\n",
       "      <th>5914</th>\n",
       "      <td>7727</td>\n",
       "      <td>0.0001</td>\n",
       "    </tr>\n",
       "    <tr>\n",
       "      <th>5915</th>\n",
       "      <td>7729</td>\n",
       "      <td>0.0001</td>\n",
       "    </tr>\n",
       "  </tbody>\n",
       "</table>\n",
       "<p>5916 rows × 2 columns</p>\n",
       "</div>"
      ],
      "text/plain": [
       "      days_since_reg  retention_rate\n",
       "0                  0        100.0000\n",
       "1                  1          2.0071\n",
       "2                  2          4.0997\n",
       "3                  3          4.6338\n",
       "4                  4          5.2258\n",
       "...              ...             ...\n",
       "5911            7716          0.0001\n",
       "5912            7720          0.0001\n",
       "5913            7721          0.0001\n",
       "5914            7727          0.0001\n",
       "5915            7729          0.0001\n",
       "\n",
       "[5916 rows x 2 columns]"
      ]
     },
     "execution_count": 45,
     "metadata": {},
     "output_type": "execute_result"
    }
   ],
   "source": [
    "retention"
   ]
  },
  {
   "cell_type": "markdown",
   "metadata": {},
   "source": [
    "Для более наглядной картины давайте визуализируем наши данные"
   ]
  },
  {
   "cell_type": "code",
   "execution_count": 50,
   "metadata": {},
   "outputs": [
    {
     "data": {
      "image/png": "[encoded data removed]",
      "text/plain": [
       "<Figure size 1224x720 with 1 Axes>"
      ]
     },
     "metadata": {
      "needs_background": "light"
     },
     "output_type": "display_data"
    }
   ],
   "source": [
    "import matplotlib.pyplot as plt\n",
    "# Построение графика\n",
    "plt.figure(figsize=(17, 10))\n",
    "plt.plot(retention['days_since_reg'], retention['retention_rate'], marker='o', linestyle='-', color='blue', linewidth=1)\n",
    "plt.title('Пользовательский Retention за все время')\n",
    "plt.xlabel('Дней с моменат регистрации')\n",
    "plt.ylabel('Retention Rate')\n",
    "plt.grid(True)\n",
    "plt.show()\n"
   ]
  },
  {
   "cell_type": "markdown",
   "metadata": {},
   "source": [
    "# Задание 2\n",
    "Имеются результаты A/B теста, в котором двум группам пользователей предлагались различные наборы акционных предложений. Известно, что ARPU в тестовой группе выше на 5%, чем в контрольной. При этом в контрольной группе 1928 игроков из 202103 оказались платящими, а в тестовой – 1805 из 202667.\n",
    "\n",
    "Какой набор предложений можно считать лучшим? Какие метрики стоит проанализировать для принятия правильного решения и как?"
   ]
  },
  {
   "cell_type": "code",
   "execution_count": 79,
   "metadata": {},
   "outputs": [
    {
     "data": {
      "text/html": [
       "<div>\n",
       "<style scoped>\n",
       "    .dataframe tbody tr th:only-of-type {\n",
       "        vertical-align: middle;\n",
       "    }\n",
       "\n",
       "    .dataframe tbody tr th {\n",
       "        vertical-align: top;\n",
       "    }\n",
       "\n",
       "    .dataframe thead th {\n",
       "        text-align: right;\n",
       "    }\n",
       "</style>\n",
       "<table border=\"1\" class=\"dataframe\">\n",
       "  <thead>\n",
       "    <tr style=\"text-align: right;\">\n",
       "      <th></th>\n",
       "      <th>user_id</th>\n",
       "      <th>revenue</th>\n",
       "      <th>testgroup</th>\n",
       "    </tr>\n",
       "  </thead>\n",
       "  <tbody>\n",
       "    <tr>\n",
       "      <th>0</th>\n",
       "      <td>1</td>\n",
       "      <td>0</td>\n",
       "      <td>b</td>\n",
       "    </tr>\n",
       "    <tr>\n",
       "      <th>1</th>\n",
       "      <td>2</td>\n",
       "      <td>0</td>\n",
       "      <td>a</td>\n",
       "    </tr>\n",
       "    <tr>\n",
       "      <th>2</th>\n",
       "      <td>3</td>\n",
       "      <td>0</td>\n",
       "      <td>a</td>\n",
       "    </tr>\n",
       "    <tr>\n",
       "      <th>3</th>\n",
       "      <td>4</td>\n",
       "      <td>0</td>\n",
       "      <td>b</td>\n",
       "    </tr>\n",
       "    <tr>\n",
       "      <th>4</th>\n",
       "      <td>5</td>\n",
       "      <td>0</td>\n",
       "      <td>b</td>\n",
       "    </tr>\n",
       "  </tbody>\n",
       "</table>\n",
       "</div>"
      ],
      "text/plain": [
       "   user_id  revenue testgroup\n",
       "0        1        0         b\n",
       "1        2        0         a\n",
       "2        3        0         a\n",
       "3        4        0         b\n",
       "4        5        0         b"
      ]
     },
     "execution_count": 79,
     "metadata": {},
     "output_type": "execute_result"
    }
   ],
   "source": [
    "# Загрузим данные\n",
    "ab_test_data = pd.read_csv('/mnt/HC_Volume_18315164/home-jupyter/jupyter-a-zakorko/Проект_1_Задание_2.csv', sep=';')\n",
    "\n",
    "# Проверим структуру данных\n",
    "ab_test_data.head()"
   ]
  },
  {
   "cell_type": "code",
   "execution_count": 80,
   "metadata": {},
   "outputs": [],
   "source": [
    "# Разделим данные на две группы: 'a' (контрольная) и 'b' (тестовая)\n",
    "group_a = ab_test_data[ab_test_data['testgroup'] == 'a']\n",
    "group_b = ab_test_data[ab_test_data['testgroup'] == 'b']"
   ]
  },
  {
   "cell_type": "code",
   "execution_count": 81,
   "metadata": {},
   "outputs": [
    {
     "data": {
      "text/html": [
       "<div>\n",
       "<style scoped>\n",
       "    .dataframe tbody tr th:only-of-type {\n",
       "        vertical-align: middle;\n",
       "    }\n",
       "\n",
       "    .dataframe tbody tr th {\n",
       "        vertical-align: top;\n",
       "    }\n",
       "\n",
       "    .dataframe thead th {\n",
       "        text-align: right;\n",
       "    }\n",
       "</style>\n",
       "<table border=\"1\" class=\"dataframe\">\n",
       "  <thead>\n",
       "    <tr style=\"text-align: right;\">\n",
       "      <th></th>\n",
       "      <th>Metric</th>\n",
       "      <th>Group A</th>\n",
       "      <th>Group B</th>\n",
       "    </tr>\n",
       "  </thead>\n",
       "  <tbody>\n",
       "    <tr>\n",
       "      <th>0</th>\n",
       "      <td>ARPU</td>\n",
       "      <td>25.413720</td>\n",
       "      <td>26.751287</td>\n",
       "    </tr>\n",
       "    <tr>\n",
       "      <th>1</th>\n",
       "      <td>Conversion Rate</td>\n",
       "      <td>0.009540</td>\n",
       "      <td>0.008906</td>\n",
       "    </tr>\n",
       "    <tr>\n",
       "      <th>2</th>\n",
       "      <td>ARPPU</td>\n",
       "      <td>2663.998444</td>\n",
       "      <td>3003.658172</td>\n",
       "    </tr>\n",
       "  </tbody>\n",
       "</table>\n",
       "</div>"
      ],
      "text/plain": [
       "            Metric      Group A      Group B\n",
       "0             ARPU    25.413720    26.751287\n",
       "1  Conversion Rate     0.009540     0.008906\n",
       "2            ARPPU  2663.998444  3003.658172"
      ]
     },
     "execution_count": 81,
     "metadata": {},
     "output_type": "execute_result"
    }
   ],
   "source": [
    "# Рассчитаем ARPU для каждой группы\n",
    "arpu_a = group_a['revenue'].sum() / len(group_a)\n",
    "arpu_b = group_b['revenue'].sum() / len(group_b)\n",
    "\n",
    "# Рассчитаем Conversion Rate для каждой группы\n",
    "conversion_rate_a = group_a[group_a['revenue'] > 0]['user_id'].nunique() / len(group_a)\n",
    "conversion_rate_b = group_b[group_b['revenue'] > 0]['user_id'].nunique() / len(group_b)\n",
    "\n",
    "# Рассчитаем ARPPU для каждой группы\n",
    "arppu_a = group_a['revenue'].sum() / group_a[group_a['revenue'] > 0]['user_id'].nunique() if conversion_rate_a > 0 else 0\n",
    "arppu_b = group_b['revenue'].sum() / group_b[group_b['revenue'] > 0]['user_id'].nunique() if conversion_rate_b > 0 else 0\n",
    "\n",
    "# Выведем рассчитанные метрики для сравнения\n",
    "metrics = pd.DataFrame({\n",
    "    'Metric': ['ARPU', 'Conversion Rate', 'ARPPU'],\n",
    "    'Group A': [arpu_a, conversion_rate_a, arppu_a],\n",
    "    'Group B': [arpu_b, conversion_rate_b, arppu_b]\n",
    "})\n",
    "\n",
    "metrics"
   ]
  },
  {
   "cell_type": "markdown",
   "metadata": {},
   "source": [
    "Для проведения A/B тестирования мы уже имеем результаты эксперимента в виде набора данных, в котором есть информация о двух группах: контрольной (A) и тестовой (B). Нам необходимо узнать, являются ли наблюдаемые различия в ARPU и Conversion Rate статистически значимыми."
   ]
  },
  {
   "cell_type": "markdown",
   "metadata": {},
   "source": [
    "Для этого будем использовать следующие статистические тесты:\n",
    "\n",
    "t-тест: для сравнения средних значений ARPU между двумя группами.\n",
    "    \n",
    "z-тест для пропорций: для сравнения долей платящих пользователей (Conversion Rate) между двумя группами."
   ]
  },
  {
   "cell_type": "code",
   "execution_count": 82,
   "metadata": {},
   "outputs": [
    {
     "data": {
      "text/plain": [
       "(0.5329647014130866, 0.035028524642854865)"
      ]
     },
     "execution_count": 82,
     "metadata": {},
     "output_type": "execute_result"
    }
   ],
   "source": [
    "from scipy import stats\n",
    "import numpy as np\n",
    "\n",
    "# Вычисление p-значения для t-теста ARPU между двумя группами\n",
    "t_stat, p_value_arpu = stats.ttest_ind(group_a['revenue'], group_b['revenue'], equal_var=False)\n",
    "\n",
    "# Вычисление p-значения для z-теста Conversion Rate между двумя группами\n",
    "from statsmodels.stats.proportion import proportions_ztest\n",
    "\n",
    "# Количество успехов (платящих пользователей) в каждой группе\n",
    "successes = np.array([group_a[group_a['revenue'] > 0]['user_id'].nunique(),\n",
    "                      group_b[group_b['revenue'] > 0]['user_id'].nunique()])\n",
    "\n",
    "# Количество наблюдений в каждой группе\n",
    "nobs = np.array([len(group_a), len(group_b)])\n",
    "\n",
    "# z-тест для пропорций\n",
    "z_stat, p_value_conv = proportions_ztest(successes, nobs)\n",
    "\n",
    "(p_value_arpu, p_value_conv)\n"
   ]
  },
  {
   "cell_type": "markdown",
   "metadata": {},
   "source": [
    "# Результаты статистического анализа следующие:\n",
    "\n",
    "p-значение для t-теста ARPU составляет примерно 0.533. Это означает, что при уровне значимости 0.05 мы не можем отклонить нулевую гипотезу о том, что средние значения ARPU в группах A и B равны. Различия в ARPU между группами статистически не значимы.\n",
    "\n",
    "p-значение для z-теста Conversion Rate составляет примерно 0.035. Это значение меньше 0.05, что позволяет нам отклонить нулевую гипотезу о том, что доли платящих пользователей в группах A и B равны. Следовательно, различие в Conversion Rate между группами статистически значимо."
   ]
  },
  {
   "cell_type": "markdown",
   "metadata": {},
   "source": [
    "# На основе этих моментов:\n",
    "\n",
    "Если целью компании является максимизация среднего дохода от всех пользователей, то можно выбрать группу B, несмотря на меньшую конверсию, так как ARPU не отличается значимо, а ARPPU выше.\n",
    "\n",
    "Если важно привлечение как можно большего числа платящих пользователей, то стоит остановиться на группе A, так как она показала более высокую конверсию."
   ]
  },
  {
   "cell_type": "markdown",
   "metadata": {},
   "source": [
    "# Вывод:\n",
    "На основе текущих данных, можно сделать вывод о том, что группа B с более высоким ARPPU и сопоставимым ARPU, несмотря на меньший Conversion Rate, может более выгодная с точки зрения доходности в краткосрочной перспективе для компании чем группа А."
   ]
  },
  {
   "cell_type": "markdown",
   "metadata": {},
   "source": [
    "# Задание 3\n",
    "В игре Plants & Gardens каждый месяц проводятся тематические события, ограниченные по времени. В них игроки могут получить уникальные предметы для сада и персонажей, дополнительные монеты или бонусы. Для получения награды требуется пройти ряд уровней за определенное время. С помощью каких метрик можно оценить результаты последнего прошедшего события?\n",
    "\n",
    "Предположим, в другом событии мы усложнили механику событий так, что при каждой неудачной попытке выполнения уровня игрок будет откатываться на несколько уровней назад. Изменится ли набор метрик оценки результата? Если да, то как?"
   ]
  },
  {
   "cell_type": "markdown",
   "metadata": {},
   "source": [
    "Во-первых как главные метрики я бы выделил:\n",
    "\n",
    "1.Число участников события(Сколько уникальных игроков участвовало в событии).\n",
    "\n",
    "2.Среднее время, проведенное в событии(Сколько времени в среднем игроки проводят в событии).\n",
    "\n",
    "Во-вторых компании нельзя забывать о прибыли, так как все нововедения в играх требуют не маленьких затрат, именно поэтому второстепенной метрикой будет выступать Монетизация:ARPU во время события(Средний доход на пользователя за период события) или Покупки внутри события(Количество и сумма покупок, совершенных игроками во время события).\n",
    "\n",
    "И наконец мы должны оценить какой Retencion rate присутсвует в нашей игре во время данного события.\n",
    "\n",
    "По поводу усложненного события можно будет оставить прошлые метрики, но при этом мы должны будем добавить ряд новых метрик, такие как:\n",
    "\n",
    "1.Повторное прохождение уровней: количество раз, которое игрокам приходилось повторно проходить уровни из-за неудачных попыток, что покажет уровень сложности и возможные места \"застревания\" (данная метрика интрпретируется как CR, тоесть мы должны проанализировать на каких уровнях игроки могут застревать и не проходить на следующий шаг, соотвественно после большого количества неудачных прохождений можно будет предлогать пользователям всяческие внутриигровые покупки или улучшения что может повысить наш ARPU. Прохождение игроков до конца, в свою очередь, будет сбособствовать увелечению retenthion и положительных отзывов об игре и из этого пункта у нас следует пункт №2).\n",
    "\n",
    "2.Обратная связь по измененной механике: анализ отзывов игроков поможет понять, как нововведение было принято аудиторией и что можно улучшить в дальнейшем."
   ]
  }
 ],
 "metadata": {
  "kernelspec": {
   "display_name": "Python 3",
   "language": "python",
   "name": "python3"
  },
  "language_info": {
   "codemirror_mode": {
    "name": "ipython",
    "version": 3
   },
   "file_extension": ".py",
   "mimetype": "text/x-python",
   "name": "python",
   "nbconvert_exporter": "python",
   "pygments_lexer": "ipython3",
   "version": "3.7.3"
  }
 },
 "nbformat": 4,
 "nbformat_minor": 4
}
