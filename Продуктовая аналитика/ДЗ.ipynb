{
 "cells": [
  {
   "cell_type": "code",
   "execution_count": 2,
   "metadata": {},
   "outputs": [],
   "source": [
    "import pandas as pd\n",
    "import numpy as np"
   ]
  },
  {
   "cell_type": "code",
   "execution_count": 46,
   "metadata": {},
   "outputs": [],
   "source": [
    "data_correct=pd.read_csv('/mnt/HC_Volume_18315164/home-jupyter/jupyter-a-zakorko/Courses/KC_case_data .csv')"
   ]
  },
  {
   "cell_type": "code",
   "execution_count": 47,
   "metadata": {},
   "outputs": [],
   "source": [
    "data_correct['date'] = pd.to_datetime(data_correct['date'])"
   ]
  },
  {
   "cell_type": "code",
   "execution_count": 48,
   "metadata": {},
   "outputs": [],
   "source": [
    "data_correct=data_correct.rename(columns={'utm_source':'urm_source'})"
   ]
  },
  {
   "cell_type": "code",
   "execution_count": 49,
   "metadata": {},
   "outputs": [
    {
     "data": {
      "text/html": [
       "<div>\n",
       "<style scoped>\n",
       "    .dataframe tbody tr th:only-of-type {\n",
       "        vertical-align: middle;\n",
       "    }\n",
       "\n",
       "    .dataframe tbody tr th {\n",
       "        vertical-align: top;\n",
       "    }\n",
       "\n",
       "    .dataframe thead th {\n",
       "        text-align: right;\n",
       "    }\n",
       "</style>\n",
       "<table border=\"1\" class=\"dataframe\">\n",
       "  <thead>\n",
       "    <tr style=\"text-align: right;\">\n",
       "      <th></th>\n",
       "      <th>date</th>\n",
       "      <th>event</th>\n",
       "      <th>purchase_sum</th>\n",
       "      <th>os_name</th>\n",
       "      <th>device_id</th>\n",
       "      <th>gender</th>\n",
       "      <th>city</th>\n",
       "      <th>urm_source</th>\n",
       "    </tr>\n",
       "  </thead>\n",
       "  <tbody>\n",
       "    <tr>\n",
       "      <th>0</th>\n",
       "      <td>2020-01-01</td>\n",
       "      <td>app_start</td>\n",
       "      <td>NaN</td>\n",
       "      <td>android</td>\n",
       "      <td>669460</td>\n",
       "      <td>female</td>\n",
       "      <td>Moscow</td>\n",
       "      <td>-</td>\n",
       "    </tr>\n",
       "    <tr>\n",
       "      <th>1</th>\n",
       "      <td>2020-01-01</td>\n",
       "      <td>app_start</td>\n",
       "      <td>NaN</td>\n",
       "      <td>ios</td>\n",
       "      <td>833621</td>\n",
       "      <td>male</td>\n",
       "      <td>Moscow</td>\n",
       "      <td>vk_ads</td>\n",
       "    </tr>\n",
       "    <tr>\n",
       "      <th>2</th>\n",
       "      <td>2020-01-01</td>\n",
       "      <td>app_start</td>\n",
       "      <td>NaN</td>\n",
       "      <td>android</td>\n",
       "      <td>1579237</td>\n",
       "      <td>male</td>\n",
       "      <td>Saint-Petersburg</td>\n",
       "      <td>referal</td>\n",
       "    </tr>\n",
       "    <tr>\n",
       "      <th>3</th>\n",
       "      <td>2020-01-01</td>\n",
       "      <td>app_start</td>\n",
       "      <td>NaN</td>\n",
       "      <td>android</td>\n",
       "      <td>1737182</td>\n",
       "      <td>female</td>\n",
       "      <td>Moscow</td>\n",
       "      <td>facebook_ads</td>\n",
       "    </tr>\n",
       "    <tr>\n",
       "      <th>4</th>\n",
       "      <td>2020-01-01</td>\n",
       "      <td>app_start</td>\n",
       "      <td>NaN</td>\n",
       "      <td>ios</td>\n",
       "      <td>4029024</td>\n",
       "      <td>female</td>\n",
       "      <td>Moscow</td>\n",
       "      <td>facebook_ads</td>\n",
       "    </tr>\n",
       "    <tr>\n",
       "      <th>...</th>\n",
       "      <td>...</td>\n",
       "      <td>...</td>\n",
       "      <td>...</td>\n",
       "      <td>...</td>\n",
       "      <td>...</td>\n",
       "      <td>...</td>\n",
       "      <td>...</td>\n",
       "      <td>...</td>\n",
       "    </tr>\n",
       "    <tr>\n",
       "      <th>2747963</th>\n",
       "      <td>2020-03-31</td>\n",
       "      <td>register</td>\n",
       "      <td>NaN</td>\n",
       "      <td>android</td>\n",
       "      <td>2984778</td>\n",
       "      <td>male</td>\n",
       "      <td>Saint-Petersburg</td>\n",
       "      <td>facebook_ads</td>\n",
       "    </tr>\n",
       "    <tr>\n",
       "      <th>2747964</th>\n",
       "      <td>2020-03-31</td>\n",
       "      <td>register</td>\n",
       "      <td>NaN</td>\n",
       "      <td>ios</td>\n",
       "      <td>27301864</td>\n",
       "      <td>male</td>\n",
       "      <td>Moscow</td>\n",
       "      <td>-</td>\n",
       "    </tr>\n",
       "    <tr>\n",
       "      <th>2747965</th>\n",
       "      <td>2020-03-31</td>\n",
       "      <td>register</td>\n",
       "      <td>NaN</td>\n",
       "      <td>ios</td>\n",
       "      <td>1294285</td>\n",
       "      <td>female</td>\n",
       "      <td>Saint-Petersburg</td>\n",
       "      <td>google_ads</td>\n",
       "    </tr>\n",
       "    <tr>\n",
       "      <th>2747966</th>\n",
       "      <td>2020-03-31</td>\n",
       "      <td>register</td>\n",
       "      <td>NaN</td>\n",
       "      <td>android</td>\n",
       "      <td>3010574</td>\n",
       "      <td>female</td>\n",
       "      <td>Saint-Petersburg</td>\n",
       "      <td>google_ads</td>\n",
       "    </tr>\n",
       "    <tr>\n",
       "      <th>2747967</th>\n",
       "      <td>2020-03-31</td>\n",
       "      <td>register</td>\n",
       "      <td>NaN</td>\n",
       "      <td>android</td>\n",
       "      <td>11153353</td>\n",
       "      <td>female</td>\n",
       "      <td>Saint-Petersburg</td>\n",
       "      <td>-</td>\n",
       "    </tr>\n",
       "  </tbody>\n",
       "</table>\n",
       "<p>2747968 rows × 8 columns</p>\n",
       "</div>"
      ],
      "text/plain": [
       "              date      event  purchase_sum  os_name  device_id  gender  \\\n",
       "0       2020-01-01  app_start           NaN  android     669460  female   \n",
       "1       2020-01-01  app_start           NaN      ios     833621    male   \n",
       "2       2020-01-01  app_start           NaN  android    1579237    male   \n",
       "3       2020-01-01  app_start           NaN  android    1737182  female   \n",
       "4       2020-01-01  app_start           NaN      ios    4029024  female   \n",
       "...            ...        ...           ...      ...        ...     ...   \n",
       "2747963 2020-03-31   register           NaN  android    2984778    male   \n",
       "2747964 2020-03-31   register           NaN      ios   27301864    male   \n",
       "2747965 2020-03-31   register           NaN      ios    1294285  female   \n",
       "2747966 2020-03-31   register           NaN  android    3010574  female   \n",
       "2747967 2020-03-31   register           NaN  android   11153353  female   \n",
       "\n",
       "                     city    urm_source  \n",
       "0                  Moscow             -  \n",
       "1                  Moscow        vk_ads  \n",
       "2        Saint-Petersburg       referal  \n",
       "3                  Moscow  facebook_ads  \n",
       "4                  Moscow  facebook_ads  \n",
       "...                   ...           ...  \n",
       "2747963  Saint-Petersburg  facebook_ads  \n",
       "2747964            Moscow             -  \n",
       "2747965  Saint-Petersburg    google_ads  \n",
       "2747966  Saint-Petersburg    google_ads  \n",
       "2747967  Saint-Petersburg             -  \n",
       "\n",
       "[2747968 rows x 8 columns]"
      ]
     },
     "execution_count": 49,
     "metadata": {},
     "output_type": "execute_result"
    }
   ],
   "source": [
    "data_correct"
   ]
  },
  {
   "cell_type": "code",
   "execution_count": 50,
   "metadata": {},
   "outputs": [
    {
     "data": {
      "text/plain": [
       "device_id    75032\n",
       "dtype: int64"
      ]
     },
     "execution_count": 50,
     "metadata": {},
     "output_type": "execute_result"
    }
   ],
   "source": [
    "data_correct.query(\"date>='2020-02-01' and date<='2020-02-29'\").agg({'device_id':'nunique'})"
   ]
  },
  {
   "cell_type": "code",
   "execution_count": 51,
   "metadata": {},
   "outputs": [
    {
     "data": {
      "text/plain": [
       "device_id    80297\n",
       "dtype: int64"
      ]
     },
     "execution_count": 51,
     "metadata": {},
     "output_type": "execute_result"
    }
   ],
   "source": [
    "data_correct.query(\"date>='2020-01-01' and date<='2020-01-31' and event=='app_install'\").agg({'device_id':'count'})"
   ]
  },
  {
   "cell_type": "code",
   "execution_count": 52,
   "metadata": {},
   "outputs": [
    {
     "data": {
      "text/plain": [
       "install_date               2020-01-01\n",
       "converted_within_7_days      0.393406\n",
       "Name: 0, dtype: object"
      ]
     },
     "execution_count": 52,
     "metadata": {},
     "output_type": "execute_result"
    }
   ],
   "source": [
    "\n",
    "# Фильтрация данных по событиям установки и покупки\n",
    "install_events = data_correct[data_correct['event'] == 'app_install']\n",
    "purchase_events = data_correct[data_correct['event'] == 'purchase']\n",
    "\n",
    "# Определение даты установки для каждого пользователя\n",
    "install_dates = install_events.groupby('device_id')['date'].min().reset_index()\n",
    "install_dates.rename(columns={'date': 'install_date'}, inplace=True)\n",
    "\n",
    "# Определение даты первой покупки для каждого пользователя\n",
    "first_purchase_dates = purchase_events.groupby('device_id')['date'].min().reset_index()\n",
    "first_purchase_dates.rename(columns={'date': 'first_purchase_date'}, inplace=True)\n",
    "\n",
    "# Объединение данных по установке и покупке\n",
    "conversion_data = pd.merge(install_dates, first_purchase_dates, on='device_id', how='left')\n",
    "\n",
    "# Расчет разницы в днях между установкой и первой покупкой\n",
    "conversion_data['days_to_purchase'] = (conversion_data['first_purchase_date'] - conversion_data['install_date']).dt.days\n",
    "\n",
    "# Определение конверсии в покупку в течение 7 дней\n",
    "conversion_data['converted_within_7_days'] = conversion_data['days_to_purchase'].between(0, 7)\n",
    "\n",
    "# Расчет конверсии для каждой когорты по дню установки\n",
    "conversion_rates = conversion_data.groupby(conversion_data['install_date'].dt.date)['converted_within_7_days'].mean().reset_index()\n",
    "\n",
    "# Определение когорты с наибольшей конверсией\n",
    "highest_conversion_cohort = conversion_rates.loc[conversion_rates['converted_within_7_days'].idxmax()]\n",
    "\n",
    "highest_conversion_cohort\n"
   ]
  },
  {
   "cell_type": "code",
   "execution_count": 53,
   "metadata": {},
   "outputs": [
    {
     "data": {
      "text/html": [
       "<div>\n",
       "<style scoped>\n",
       "    .dataframe tbody tr th:only-of-type {\n",
       "        vertical-align: middle;\n",
       "    }\n",
       "\n",
       "    .dataframe tbody tr th {\n",
       "        vertical-align: top;\n",
       "    }\n",
       "\n",
       "    .dataframe thead th {\n",
       "        text-align: right;\n",
       "    }\n",
       "</style>\n",
       "<table border=\"1\" class=\"dataframe\">\n",
       "  <thead>\n",
       "    <tr style=\"text-align: right;\">\n",
       "      <th></th>\n",
       "      <th>device_id</th>\n",
       "    </tr>\n",
       "    <tr>\n",
       "      <th>urm_source</th>\n",
       "      <th></th>\n",
       "    </tr>\n",
       "  </thead>\n",
       "  <tbody>\n",
       "    <tr>\n",
       "      <th>-</th>\n",
       "      <td>52273</td>\n",
       "    </tr>\n",
       "    <tr>\n",
       "      <th>facebook_ads</th>\n",
       "      <td>25959</td>\n",
       "    </tr>\n",
       "    <tr>\n",
       "      <th>google_ads</th>\n",
       "      <td>38096</td>\n",
       "    </tr>\n",
       "    <tr>\n",
       "      <th>instagram_ads</th>\n",
       "      <td>31048</td>\n",
       "    </tr>\n",
       "    <tr>\n",
       "      <th>referal</th>\n",
       "      <td>15926</td>\n",
       "    </tr>\n",
       "    <tr>\n",
       "      <th>vk_ads</th>\n",
       "      <td>34086</td>\n",
       "    </tr>\n",
       "    <tr>\n",
       "      <th>yandex-direct</th>\n",
       "      <td>40712</td>\n",
       "    </tr>\n",
       "  </tbody>\n",
       "</table>\n",
       "</div>"
      ],
      "text/plain": [
       "               device_id\n",
       "urm_source              \n",
       "-                  52273\n",
       "facebook_ads       25959\n",
       "google_ads         38096\n",
       "instagram_ads      31048\n",
       "referal            15926\n",
       "vk_ads             34086\n",
       "yandex-direct      40712"
      ]
     },
     "execution_count": 53,
     "metadata": {},
     "output_type": "execute_result"
    }
   ],
   "source": [
    "data_correct.groupby('urm_source').agg({'device_id':'nunique'})"
   ]
  },
  {
   "cell_type": "code",
   "execution_count": 54,
   "metadata": {},
   "outputs": [
    {
     "data": {
      "text/plain": [
       "('search', 'add_to_cart')"
      ]
     },
     "execution_count": 54,
     "metadata": {},
     "output_type": "execute_result"
    }
   ],
   "source": [
    "# Предположим, что событие регистрации обозначается в данных как 'registration'\n",
    "# Добавим колонку с датой регистрации для каждого пользователя\n",
    "registration_dates = data_correct[data_correct['event'] == 'registration'].groupby('device_id')['date'].min().reset_index()\n",
    "registration_dates.rename(columns={'date': 'registration_date'}, inplace=True)\n",
    "\n",
    "# Добавление информации о дате регистрации к основным данным\n",
    "data_with_registration = pd.merge(data_correct, registration_dates, on='device_id', how='left')\n",
    "\n",
    "# Определение статуса регистрации на момент совершения события\n",
    "data_with_registration['registered'] = data_with_registration['date'] >= data_with_registration['registration_date']\n",
    "\n",
    "# Определение ключевых этапов воронки и расчет конверсии для зарегистрированных и незарегистрированных пользователей\n",
    "funnel_steps = ['search', 'add_to_cart', 'begin_checkout', 'registration', 'purchase']\n",
    "\n",
    "# Инициализация словарей для хранения результатов\n",
    "conversion_results_registered = {}\n",
    "conversion_results_unregistered = {}\n",
    "\n",
    "for i in range(len(funnel_steps)-1):\n",
    "    prev_step = funnel_steps[i]\n",
    "    next_step = funnel_steps[i+1]\n",
    "    \n",
    "    # Фильтрация данных по этапам для зарегистрированных и незарегистрированных пользователей\n",
    "    prev_step_data_registered = data_with_registration[(data_with_registration['event'] == prev_step) & (data_with_registration['registered'])]\n",
    "    next_step_data_registered = data_with_registration[(data_with_registration['event'] == next_step) & (data_with_registration['registered'])]\n",
    "    \n",
    "    prev_step_data_unregistered = data_with_registration[(data_with_registration['event'] == prev_step) & (~data_with_registration['registered'])]\n",
    "    next_step_data_unregistered = data_with_registration[(data_with_registration['event'] == next_step) & (~data_with_registration['registered'])]\n",
    "    \n",
    "    # Расчет конверсии\n",
    "    conversion_rate_registered = len(next_step_data_registered['device_id'].unique()) / len(prev_step_data_registered['device_id'].unique()) if len(prev_step_data_registered['device_id'].unique()) > 0 else 0\n",
    "    conversion_rate_unregistered = len(next_step_data_unregistered['device_id'].unique()) / len(prev_step_data_unregistered['device_id'].unique()) if len(prev_step_data_unregistered['device_id'].unique()) > 0 else 0\n",
    "    \n",
    "    conversion_results_registered[(prev_step, next_step)] = conversion_rate_registered\n",
    "    conversion_results_unregistered[(prev_step, next_step)] = conversion_rate_unregistered\n",
    "\n",
    "# Определение этапа с наименьшей конверсией для зарегистрированных пользователей\n",
    "lowest_conversion_step_registered = min(conversion_results_registered, key=conversion_results_registered.get)\n",
    "\n",
    "lowest_conversion_step_registered\n"
   ]
  },
  {
   "cell_type": "code",
   "execution_count": 68,
   "metadata": {},
   "outputs": [
    {
     "data": {
      "text/plain": [
       "'google_ads'"
      ]
     },
     "execution_count": 68,
     "metadata": {},
     "output_type": "execute_result"
    }
   ],
   "source": [
    "# Расчет конверсии, учитывая только уникальных пользователей\n",
    "# Определение уникальных пользователей, впервые открывших приложение, по каналам\n",
    "unique_first_app_start = first_app_start.groupby('urm_source')['device_id'].nunique().reset_index()\n",
    "\n",
    "# Определение уникальных пользователей, совершивших первую покупку, по каналам\n",
    "unique_first_purchase = pd.merge(first_app_start, first_purchase, on='device_id', how='inner').groupby('urm_source')['device_id'].nunique().reset_index()\n",
    "\n",
    "# Расчет конверсии для каждого канала\n",
    "conversion_by_channel_unique = pd.merge(unique_first_app_start, unique_first_purchase, on='urm_source', how='left', suffixes=('_app_start', '_purchase'))\n",
    "conversion_by_channel_unique['conversion_rate'] = conversion_by_channel_unique['device_id_purchase'] / conversion_by_channel_unique['device_id_app_start']\n",
    "\n",
    "# Исключаем канал с обозначением '-' из анализа и ищем канал с наименьшей конверсией\n",
    "lowest_conversion_channel_corrected = conversion_rate_by_channel[conversion_rate_by_channel['urm_source'] != '-'].iloc[0]\n",
    "\n",
    "lowest_conversion_channel_corrected['urm_source']\n",
    "\n"
   ]
  },
  {
   "cell_type": "code",
   "execution_count": 72,
   "metadata": {},
   "outputs": [
    {
     "data": {
      "text/plain": [
       "'referal'"
      ]
     },
     "execution_count": 72,
     "metadata": {},
     "output_type": "execute_result"
    }
   ],
   "source": [
    "# Определение первой покупки каждого пользователя и суммы этой покупки\n",
    "first_purchase_sum = purchase_events.groupby('device_id').first().reset_index()[['device_id', 'purchase_sum']]\n",
    "\n",
    "# Сопоставление каждой первой покупки с каналом, из которого пришел пользователь\n",
    "first_purchase_with_channel = pd.merge(first_purchase_sum, first_app_start[['device_id', 'urm_source']], on='device_id', how='left')\n",
    "\n",
    "# Расчет медианного первого чека для каждого канала\n",
    "median_first_check_by_channel = first_purchase_with_channel.groupby('urm_source')['purchase_sum'].median().reset_index()\n",
    "\n",
    "# Определение канала с наивысшим медианным первым чеком\n",
    "highest_median_first_check_channel = median_first_check_by_channel.sort_values(by='purchase_sum', ascending=False).iloc[0]\n",
    "\n",
    "highest_median_first_check_channel['urm_source']\n"
   ]
  },
  {
   "cell_type": "code",
   "execution_count": 79,
   "metadata": {},
   "outputs": [
    {
     "data": {
      "text/plain": [
       "'ВК'"
      ]
     },
     "execution_count": 79,
     "metadata": {},
     "output_type": "execute_result"
    }
   ],
   "source": [
    "# Затраты на рекламу по каналам\n",
    "ad_costs = {\n",
    "    'yandex': 10491707,\n",
    "    'google': 10534878,\n",
    "    'facebook': 8590498,\n",
    "    'instagram': 8561626,\n",
    "    'vk': 9553531,\n",
    "}\n",
    "\n",
    "# Суммарный доход от первых покупок по каналам\n",
    "total_revenue_by_channel = first_purchase_with_channel.groupby('urm_source')['purchase_sum'].sum().reset_index()\n",
    "\n",
    "# Преобразование названий каналов для соответствия ключам словаря затрат\n",
    "total_revenue_by_channel['urm_source'] = total_revenue_by_channel['urm_source'].replace({\n",
    "    'yandex_direct': 'yandex',\n",
    "    'google_ads': 'google',\n",
    "    'facebook_ads': 'facebook',\n",
    "    'instagram_ads': 'instagram',\n",
    "    'vk_ads': 'vk',\n",
    "    'referal': 'referral_program'\n",
    "})\n",
    "\n",
    "# Расчет ROMI для каждого рекламного канала\n",
    "romi_by_channel = []\n",
    "for channel, cost in ad_costs.items():\n",
    "    revenue = total_revenue_by_channel.loc[total_revenue_by_channel['urm_source'] == channel, 'purchase_sum'].values[0] if channel in total_revenue_by_channel['urm_source'].values else 0\n",
    "    romi = ((revenue - cost) / cost) * 100 if cost > 0 else 0\n",
    "    romi_by_channel.append({'channel': channel, 'ROMI': romi})\n",
    "\n",
    "# Определение канала с самым высоким ROMI\n",
    "romi_df = pd.DataFrame(romi_by_channel)\n",
    "highest_romi_channel = romi_df.sort_values(by='ROMI', ascending=False).iloc[0]['channel']\n",
    "\n",
    "# Преобразование названий каналов обратно для вывода ответа\n",
    "channel_names_map = {\n",
    "    'yandex': 'Яндекс',\n",
    "    'google': 'Гугл',\n",
    "    'facebook': 'Фейсбук',\n",
    "    'instagram': 'Инстаграм',\n",
    "    'vk': 'ВК',\n",
    "}\n",
    "highest_romi_channel_name = channel_names_map[highest_romi_channel]\n",
    "\n",
    "highest_romi_channel_name\n"
   ]
  },
  {
   "cell_type": "code",
   "execution_count": null,
   "metadata": {},
   "outputs": [],
   "source": []
  }
 ],
 "metadata": {
  "kernelspec": {
   "display_name": "Python 3",
   "language": "python",
   "name": "python3"
  },
  "language_info": {
   "codemirror_mode": {
    "name": "ipython",
    "version": 3
   },
   "file_extension": ".py",
   "mimetype": "text/x-python",
   "name": "python",
   "nbconvert_exporter": "python",
   "pygments_lexer": "ipython3",
   "version": "3.7.3"
  }
 },
 "nbformat": 4,
 "nbformat_minor": 4
}
