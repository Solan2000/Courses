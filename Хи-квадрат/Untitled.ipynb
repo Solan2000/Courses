{
 "cells": [
  {
   "cell_type": "code",
   "execution_count": 8,
   "metadata": {},
   "outputs": [
    {
     "data": {
      "text/plain": [
       "0.244"
      ]
     },
     "execution_count": 8,
     "metadata": {},
     "output_type": "execute_result"
    }
   ],
   "source": [
    "from scipy.stats import chi2_contingency\n",
    "\n",
    "# Данные из таблицы\n",
    "data = [[21, 16],\n",
    "        [75, 60],\n",
    "        [5, 10]]\n",
    "\n",
    "# Выполнение теста хи-квадрат\n",
    "chi2, p, dof, ex = chi2_contingency(data)\n",
    "\n",
    "# Вывод значения p-value, округленного до 3 знаков после запятой\n",
    "round(p, 3)\n"
   ]
  },
  {
   "cell_type": "code",
   "execution_count": 7,
   "metadata": {},
   "outputs": [
    {
     "data": {
      "text/plain": [
       "(<scipy.stats._continuous_distns.chi2_gen at 0x7f9c93bb4be0>,\n",
       " 5.991464547107979)"
      ]
     },
     "execution_count": 7,
     "metadata": {},
     "output_type": "execute_result"
    }
   ],
   "source": [
    "from scipy.stats import chi2\n",
    "\n",
    "# Ранее рассчитанное значение хи-квадрат\n",
    "chi2_value = chi2\n",
    "\n",
    "# Распределение хи-квадрат для 2 степеней свободы на уровне значимости 0.05\n",
    "critical_value = chi2.ppf(0.95, 2)\n",
    "\n",
    "chi2_value, critical_value\n"
   ]
  },
  {
   "cell_type": "code",
   "execution_count": 9,
   "metadata": {},
   "outputs": [
    {
     "data": {
      "text/plain": [
       "2.8239706434502656"
      ]
     },
     "execution_count": 9,
     "metadata": {},
     "output_type": "execute_result"
    }
   ],
   "source": [
    "chi2"
   ]
  },
  {
   "cell_type": "code",
   "execution_count": null,
   "metadata": {},
   "outputs": [],
   "source": []
  }
 ],
 "metadata": {
  "kernelspec": {
   "display_name": "Python 3",
   "language": "python",
   "name": "python3"
  },
  "language_info": {
   "codemirror_mode": {
    "name": "ipython",
    "version": 3
   },
   "file_extension": ".py",
   "mimetype": "text/x-python",
   "name": "python",
   "nbconvert_exporter": "python",
   "pygments_lexer": "ipython3",
   "version": "3.7.3"
  }
 },
 "nbformat": 4,
 "nbformat_minor": 4
}
