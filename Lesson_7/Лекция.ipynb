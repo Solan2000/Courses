{
 "cells": [
  {
   "cell_type": "code",
   "execution_count": 2,
   "metadata": {},
   "outputs": [],
   "source": [
    "import pandas as pd\n",
    "import datetime\n",
    "import vk_api\n",
    "import os\n",
    "import requests\n",
    "import json\n",
    "import random\n",
    "\n",
    "%matplotlib inline\n",
    "import matplotlib.pyplot as plt\n",
    "import seaborn as sns\n",
    "import sys"
   ]
  },
  {
   "cell_type": "code",
   "execution_count": 3,
   "metadata": {},
   "outputs": [],
   "source": [
    "token='vk1.a.MJEXEuq2lLn8WH4JG-Ak63reniK6DC61uLEdl7urJ1YT87pgHCT74AxwhAzt3l_4yNDm1GcwghxrZnYUkguFJmCS0H7GXUBCs7BBT-AQ8N5XL3khFo38zCoWEi3KsUZ_GNKe1T6P0fpQNSsQI7NazIYoyujI9k2QtLGFFEoTZvNuVPt5kDgB2dVi_Kn5GzQnIzCG0PjMIrtp7NHu4yJrXA'"
   ]
  },
  {
   "cell_type": "code",
   "execution_count": 5,
   "metadata": {},
   "outputs": [],
   "source": [
    "vk_session = vk_api.VkApi (token=token)\n",
    "vk = vk_session.get_api()"
   ]
  },
  {
   "cell_type": "code",
   "execution_count": 9,
   "metadata": {},
   "outputs": [
    {
     "data": {
      "text/plain": [
       "0"
      ]
     },
     "execution_count": 9,
     "metadata": {},
     "output_type": "execute_result"
    }
   ],
   "source": [
    "vk.messages.send(\n",
    "    chat_id=1,\n",
    "    random_id=2,\n",
    "    message='Wake up, Samurai....')"
   ]
  },
  {
   "cell_type": "code",
   "execution_count": 11,
   "metadata": {},
   "outputs": [],
   "source": [
    "df= pd.read_csv('/mnt/HC_Volume_18315164/home-jupyter/jupyter-a-zakorko/shared/ads_data.csv.zip', compression='zip')"
   ]
  },
  {
   "cell_type": "code",
   "execution_count": 12,
   "metadata": {},
   "outputs": [],
   "source": [
    "ad_data=df.groupby(['ad_id','event'],as_index=False)\\\n",
    "    .agg({'user_id':'count'})"
   ]
  },
  {
   "cell_type": "code",
   "execution_count": 16,
   "metadata": {},
   "outputs": [],
   "source": [
    "ad_data=ad_data.pivot(index='ad_id',columns='event',values='user_id').reset_index()"
   ]
  },
  {
   "cell_type": "code",
   "execution_count": 18,
   "metadata": {},
   "outputs": [],
   "source": [
    "ad_data = ad_data.fillna(0).assign(ctr=ad_data.click/ad_data.view)"
   ]
  },
  {
   "cell_type": "code",
   "execution_count": 22,
   "metadata": {},
   "outputs": [],
   "source": [
    "top_ctr=ad_data.query('click>20 & view>100 ').sort_values('ctr').tail(10)"
   ]
  },
  {
   "cell_type": "code",
   "execution_count": 24,
   "metadata": {},
   "outputs": [],
   "source": [
    "top_ctr.to_csv('top_ctr_data.csv', index=False)"
   ]
  },
  {
   "cell_type": "code",
   "execution_count": null,
   "metadata": {},
   "outputs": [],
   "source": []
  },
  {
   "cell_type": "code",
   "execution_count": null,
   "metadata": {},
   "outputs": [],
   "source": []
  },
  {
   "cell_type": "code",
   "execution_count": 26,
   "metadata": {},
   "outputs": [
    {
     "data": {
      "text/plain": [
       "{'file': '250765353|0|-1|909418|4dc3d52feb|csv|403|top_ctr_data.csv|c2f9e346fc49058f43500d24dbf7ae44|9fdd8b7d75af1567f6349b7755445c93||||eyJkaXNrIjoiMjMiLCJwZWVyX3NlbmRlciI6Ii0yMjM0NzUwMjEifQ=='}"
      ]
     },
     "execution_count": 26,
     "metadata": {},
     "output_type": "execute_result"
    }
   ],
   "source": [
    "path='/mnt/HC_Volume_18315164/home-jupyter/jupyter-a-zakorko/Lesson_7/top_ctr_data.csv'\n",
    "file_name = 'top_ctr_data.csv'\n",
    "\n",
    "path_to_file=path\n",
    "upload_url=vk.docs.getMessagesUploadServer(peer_id=2000000001)[\"upload_url\"]\n",
    "file ={'file':(file_name,open(path_to_file,'rb'))}\n",
    "\n",
    "response=requests.post(upload_url,files=file)\n",
    "\n",
    "json_data=json.loads(response.text)\n",
    "json_data"
   ]
  },
  {
   "cell_type": "code",
   "execution_count": 27,
   "metadata": {},
   "outputs": [],
   "source": [
    "saved_file=vk.docs.save(file=json_data['file'],title=file_name)"
   ]
  },
  {
   "cell_type": "code",
   "execution_count": 28,
   "metadata": {},
   "outputs": [
    {
     "data": {
      "text/plain": [
       "{'type': 'doc',\n",
       " 'doc': {'id': 669208127,\n",
       "  'owner_id': 250765353,\n",
       "  'title': 'top_ctr_data.csv',\n",
       "  'size': 403,\n",
       "  'ext': 'csv',\n",
       "  'date': 1700148057,\n",
       "  'type': 1,\n",
       "  'url': 'https://vk.com/doc250765353_669208127?hash=K0WgssZeldppdcn4wMnu1VHiZgPNuWDazi8xJi7EEKz&dl=Jaukqcx7qHibbApvsYSMRKQyWMRkUmZN1lAOCKIsamP&api=1&no_preview=1',\n",
       "  'is_unsafe': 0}}"
      ]
     },
     "execution_count": 28,
     "metadata": {},
     "output_type": "execute_result"
    }
   ],
   "source": [
    "saved_file"
   ]
  },
  {
   "cell_type": "code",
   "execution_count": 29,
   "metadata": {},
   "outputs": [],
   "source": [
    "attachment='doc{}_{}'.format(saved_file['doc']['owner_id'],saved_file['doc']['id'])"
   ]
  },
  {
   "cell_type": "code",
   "execution_count": 30,
   "metadata": {},
   "outputs": [
    {
     "data": {
      "text/plain": [
       "'doc250765353_669208127'"
      ]
     },
     "execution_count": 30,
     "metadata": {},
     "output_type": "execute_result"
    }
   ],
   "source": [
    "attachment"
   ]
  },
  {
   "cell_type": "code",
   "execution_count": 31,
   "metadata": {},
   "outputs": [
    {
     "data": {
      "text/plain": [
       "0"
      ]
     },
     "execution_count": 31,
     "metadata": {},
     "output_type": "execute_result"
    }
   ],
   "source": [
    "vk.messages.send(\n",
    "    chat_id=1,\n",
    "    random_id=3,\n",
    "    message='Топ объявлений по CTR',\n",
    "    attachment=attachment\n",
    ")"
   ]
  },
  {
   "cell_type": "code",
   "execution_count": null,
   "metadata": {},
   "outputs": [],
   "source": []
  },
  {
   "cell_type": "code",
   "execution_count": null,
   "metadata": {},
   "outputs": [],
   "source": []
  },
  {
   "cell_type": "code",
   "execution_count": null,
   "metadata": {},
   "outputs": [],
   "source": []
  },
  {
   "cell_type": "code",
   "execution_count": null,
   "metadata": {},
   "outputs": [],
   "source": []
  },
  {
   "cell_type": "code",
   "execution_count": 32,
   "metadata": {},
   "outputs": [],
   "source": [
    "import gspread\n",
    "from df2gspread import df2gspread as d2g\n",
    "from oauth2client.service_account import ServiceAccountCredentials"
   ]
  },
  {
   "cell_type": "code",
   "execution_count": null,
   "metadata": {},
   "outputs": [],
   "source": [
    "scope = ['https://spreadsheets.google.com/feeds',\n",
    "         'https://www.googleapis.com/auth/drive']\n",
    "\n",
    "my_mail = 'alexzakorko@gmail.com'\n",
    "\n",
    "# Authorization\n",
    "credentials = ServiceAccountCredentials.from_json_keyfile_name('heroic-venture-268009-1dfbcc34e5fa.json', scope)\n",
    "gs = gspread.authorize(credentials)"
   ]
  }
 ],
 "metadata": {
  "kernelspec": {
   "display_name": "Python 3",
   "language": "python",
   "name": "python3"
  },
  "language_info": {
   "codemirror_mode": {
    "name": "ipython",
    "version": 3
   },
   "file_extension": ".py",
   "mimetype": "text/x-python",
   "name": "python",
   "nbconvert_exporter": "python",
   "pygments_lexer": "ipython3",
   "version": "3.7.3"
  }
 },
 "nbformat": 4,
 "nbformat_minor": 4
}
