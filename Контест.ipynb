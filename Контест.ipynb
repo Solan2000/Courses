{
 "cells": [
  {
   "cell_type": "code",
   "execution_count": 18,
   "metadata": {},
   "outputs": [
    {
     "name": "stdout",
     "output_type": "stream",
     "text": [
      "10000 111111\n",
      "0 0\n",
      "8 1 0 3 9 2 6 5 4 7\n",
      "0\n",
      "\n"
     ]
    },
    {
     "ename": "ValueError",
     "evalue": "not enough values to unpack (expected 2, got 0)",
     "output_type": "error",
     "traceback": [
      "\u001b[0;31m---------------------------------------------------------------------------\u001b[0m",
      "\u001b[0;31mValueError\u001b[0m                                Traceback (most recent call last)",
      "\u001b[0;32m<ipython-input-18-14e56d7de22d>\u001b[0m in \u001b[0;36m<module>\u001b[0;34m\u001b[0m\n\u001b[1;32m     30\u001b[0m \u001b[0;34m\u001b[0m\u001b[0m\n\u001b[1;32m     31\u001b[0m \u001b[0;32mif\u001b[0m \u001b[0m__name__\u001b[0m \u001b[0;34m==\u001b[0m \u001b[0;34m\"__main__\"\u001b[0m\u001b[0;34m:\u001b[0m\u001b[0;34m\u001b[0m\u001b[0;34m\u001b[0m\u001b[0m\n\u001b[0;32m---> 32\u001b[0;31m     \u001b[0mmain\u001b[0m\u001b[0;34m(\u001b[0m\u001b[0;34m)\u001b[0m\u001b[0;34m\u001b[0m\u001b[0;34m\u001b[0m\u001b[0m\n\u001b[0m",
      "\u001b[0;32m<ipython-input-18-14e56d7de22d>\u001b[0m in \u001b[0;36mmain\u001b[0;34m()\u001b[0m\n\u001b[1;32m      9\u001b[0m     \u001b[0;32mfor\u001b[0m \u001b[0m_\u001b[0m \u001b[0;32min\u001b[0m \u001b[0mrange\u001b[0m\u001b[0;34m(\u001b[0m\u001b[0mM\u001b[0m\u001b[0;34m)\u001b[0m\u001b[0;34m:\u001b[0m\u001b[0;34m\u001b[0m\u001b[0;34m\u001b[0m\u001b[0m\n\u001b[1;32m     10\u001b[0m         \u001b[0;31m# Считываем количество голов, забитых каждой командой\u001b[0m\u001b[0;34m\u001b[0m\u001b[0;34m\u001b[0m\u001b[0;34m\u001b[0m\u001b[0m\n\u001b[0;32m---> 11\u001b[0;31m         \u001b[0mgA\u001b[0m\u001b[0;34m,\u001b[0m \u001b[0mgB\u001b[0m \u001b[0;34m=\u001b[0m \u001b[0mmap\u001b[0m\u001b[0;34m(\u001b[0m\u001b[0mint\u001b[0m\u001b[0;34m,\u001b[0m \u001b[0minput\u001b[0m\u001b[0;34m(\u001b[0m\u001b[0;34m)\u001b[0m\u001b[0;34m.\u001b[0m\u001b[0msplit\u001b[0m\u001b[0;34m(\u001b[0m\u001b[0;34m)\u001b[0m\u001b[0;34m)\u001b[0m\u001b[0;34m\u001b[0m\u001b[0;34m\u001b[0m\u001b[0m\n\u001b[0m\u001b[1;32m     12\u001b[0m         \u001b[0;31m# Считываем ID игроков, участвующих в матче\u001b[0m\u001b[0;34m\u001b[0m\u001b[0;34m\u001b[0m\u001b[0;34m\u001b[0m\u001b[0m\n\u001b[1;32m     13\u001b[0m         \u001b[0mplayers\u001b[0m \u001b[0;34m=\u001b[0m \u001b[0mlist\u001b[0m\u001b[0;34m(\u001b[0m\u001b[0mmap\u001b[0m\u001b[0;34m(\u001b[0m\u001b[0mint\u001b[0m\u001b[0;34m,\u001b[0m \u001b[0minput\u001b[0m\u001b[0;34m(\u001b[0m\u001b[0;34m)\u001b[0m\u001b[0;34m.\u001b[0m\u001b[0msplit\u001b[0m\u001b[0;34m(\u001b[0m\u001b[0;34m)\u001b[0m\u001b[0;34m)\u001b[0m\u001b[0;34m)\u001b[0m\u001b[0;34m\u001b[0m\u001b[0;34m\u001b[0m\u001b[0m\n",
      "\u001b[0;31mValueError\u001b[0m: not enough values to unpack (expected 2, got 0)"
     ]
    }
   ],
   "source": [
    "def main():\n",
    "    # Считываем количество сотрудников и матчей\n",
    "    N, M = map(int, input().split())\n",
    "    \n",
    "    # Инициализация статистики разницы мячей для каждого игрока\n",
    "    goal_differences = [0] * N\n",
    "\n",
    "    # Обработка каждого матча\n",
    "    for _ in range(M):\n",
    "        # Считываем количество голов, забитых каждой командой\n",
    "        gA, gB = map(int, input().split())\n",
    "        # Считываем ID игроков, участвующих в матче\n",
    "        players = list(map(int, input().split()))\n",
    "        teamA = players[:5]  # Первые пять - состав команды A\n",
    "        teamB = players[5:]  # Вторые пять - состав команды B\n",
    "\n",
    "        # Разница мячей для каждой команды\n",
    "        difference_A = gA - gB\n",
    "        difference_B = gB - gA\n",
    "        \n",
    "        # Обновляем разницу мячей для каждого игрока в командах\n",
    "        for player in teamA:\n",
    "            goal_differences[player] += difference_A\n",
    "        for player in teamB:\n",
    "            goal_differences[player] += difference_B\n",
    "        \n",
    "        # Подсчет игроков с разницей мячей больше, чем у Аркадия\n",
    "        more_than_Arkadiy = sum(1 for difference in goal_differences if difference > goal_differences[0])\n",
    "        print(more_than_Arkadiy)\n",
    "\n",
    "if __name__ == \"__main__\":\n",
    "    main()\n"
   ]
  },
  {
   "cell_type": "code",
   "execution_count": 13,
   "metadata": {},
   "outputs": [
    {
     "name": "stdout",
     "output_type": "stream",
     "text": [
      "2021-01-01 00:00:00 1000\n",
      "\n",
      "9000.00\n"
     ]
    }
   ],
   "source": [
    "from datetime import datetime\n",
    "\n",
    "def remaining_budget(entries):\n",
    "    start_date = datetime.strptime(\"2021-01-01 00:00:00\", \"%Y-%m-%d %H:%M:%S\")\n",
    "    end_date = datetime.strptime(\"2021-02-01 00:00:00\", \"%Y-%m-%d %H:%M:%S\")\n",
    "    total_budget = 10000\n",
    "\n",
    "    total_spent = 0\n",
    "    for entry in entries:\n",
    "        parts = entry.split()\n",
    "        date_str = \" \".join(parts[:-1])\n",
    "        spent = int(parts[-1])\n",
    "        spent_time = datetime.strptime(date_str, \"%Y-%m-%d %H:%M:%S\")\n",
    "        minutes_spent = (spent_time - start_date).total_seconds() / 60\n",
    "        total_spent += spent\n",
    "\n",
    "        if minutes_spent > 0:\n",
    "            avg_spending_per_minute = total_spent / minutes_spent\n",
    "            remaining_minutes = (end_date - spent_time).total_seconds() / 60\n",
    "            estimated_future_spending = avg_spending_per_minute * remaining_minutes\n",
    "        else:\n",
    "            estimated_future_spending = 0\n",
    "\n",
    "        remaining = round(total_budget - total_spent - estimated_future_spending, 2)\n",
    "        \n",
    "        print(f\"{remaining:.2f}\")\n",
    "\n",
    "# Считывание данных с клавиатуры\n",
    "entries = []\n",
    "while True:\n",
    "    try:\n",
    "        line = input()\n",
    "        if line:  # Добавляем строку только если она не пустая\n",
    "            entries.append(line)\n",
    "        else:\n",
    "            break  # Прекращаем ввод, если введена пустая строка\n",
    "    except EOFError:\n",
    "        break  # Прекращаем ввод, если достигнут конец файла (EOF)\n",
    "\n",
    "# Вывод результатов\n",
    "remaining_budget(entries)"
   ]
  },
  {
   "cell_type": "code",
   "execution_count": 15,
   "metadata": {},
   "outputs": [
    {
     "name": "stdout",
     "output_type": "stream",
     "text": [
      "3\n",
      "1 2 3\n",
      "4\n",
      "1 1\n",
      "2 1\n",
      "3 1\n",
      "4 1\n",
      "Yes\n"
     ]
    }
   ],
   "source": [
    "n = int(input())  # Число команд\n",
    "teams = list(map(int, input().split()))  # Количество спортсменок в каждой команде\n",
    "k = int(input())  # Количество типов комнат\n",
    "\n",
    "# Считываем вместимость комнат и количество комнат каждого типа\n",
    "rooms = []\n",
    "for _ in range(k):\n",
    "    capacity, count = map(int, input().split())\n",
    "    rooms.append((capacity, count))\n",
    "\n",
    "# Сортируем команды и комнаты по убыванию\n",
    "teams.sort(reverse=True)\n",
    "rooms.sort(reverse=True)\n",
    "\n",
    "# Пытаемся расселить каждую команду\n",
    "for team in teams:\n",
    "    settled = False  # Флаг успешного расселения команды\n",
    "    for i, (capacity, count) in enumerate(rooms):\n",
    "        if team <= capacity and count > 0:  # Если комната подходит и свободна\n",
    "            rooms[i] = (capacity, count - 1)  # Занимаем одну комнату\n",
    "            settled = True\n",
    "            break\n",
    "    if not settled:  # Если не нашли подходящую комнату для команды\n",
    "        print(\"No\")\n",
    "        break\n",
    "else:\n",
    "    print(\"Yes\")  # Все команды успешно расселены"
   ]
  },
  {
   "cell_type": "code",
   "execution_count": null,
   "metadata": {},
   "outputs": [],
   "source": []
  }
 ],
 "metadata": {
  "kernelspec": {
   "display_name": "Python 3",
   "language": "python",
   "name": "python3"
  },
  "language_info": {
   "codemirror_mode": {
    "name": "ipython",
    "version": 3
   },
   "file_extension": ".py",
   "mimetype": "text/x-python",
   "name": "python",
   "nbconvert_exporter": "python",
   "pygments_lexer": "ipython3",
   "version": "3.7.3"
  }
 },
 "nbformat": 4,
 "nbformat_minor": 4
}
