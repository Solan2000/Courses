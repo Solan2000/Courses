{
 "cells": [
  {
   "cell_type": "code",
   "execution_count": 45,
   "metadata": {},
   "outputs": [
    {
     "data": {
      "text/plain": [
       "10.0"
      ]
     },
     "execution_count": 45,
     "metadata": {},
     "output_type": "execute_result"
    }
   ],
   "source": [
    "from scipy import special #модуль питона, предназначенный для научных и инженерных расчетов\n",
    "\n",
    "special.comb(5, 2) #биномиальный коэффициент"
   ]
  },
  {
   "cell_type": "code",
   "execution_count": 15,
   "metadata": {},
   "outputs": [
    {
     "data": {
      "text/plain": [
       "0.1976503199999999"
      ]
     },
     "execution_count": 15,
     "metadata": {},
     "output_type": "execute_result"
    }
   ],
   "source": [
    "0.3*8*0.7**7"
   ]
  },
  {
   "cell_type": "code",
   "execution_count": 23,
   "metadata": {},
   "outputs": [
    {
     "data": {
      "text/plain": [
       "0.744"
      ]
     },
     "execution_count": 23,
     "metadata": {},
     "output_type": "execute_result"
    }
   ],
   "source": [
    "1-(0.058+0.198)"
   ]
  },
  {
   "cell_type": "code",
   "execution_count": 39,
   "metadata": {},
   "outputs": [
    {
     "data": {
      "text/plain": [
       "0.42"
      ]
     },
     "execution_count": 39,
     "metadata": {},
     "output_type": "execute_result"
    }
   ],
   "source": [
    "p_buy = 0.4\n",
    "\n",
    "# Вероятность промаха\n",
    "p_no_buy = 1 - p_buy\n",
    "\n",
    "# Количество выстрелов\n",
    "n_customers = 7\n",
    "\n",
    "# Вероятность того, что цель будет поражена 0 раз (никаких попаданий)\n",
    "P_0_hits = special.comb(n_customers, 0) * (p_buy ** 0) * (p_no_buy ** (n_customers - 0))\n",
    "P_1_hits = special.comb(n_customers, 1) * (p_buy ** 1) * (p_no_buy ** (n_customers - 1))\n",
    "P_2_hits = special.comb(n_customers, 2) * (p_buy ** 2) * (p_no_buy ** (n_customers - 2))\n",
    "\n",
    "# Вероятность того, что цель будет поражена хотя бы два раза\n",
    "P_at_least_2_hits = P_0_hits + P_1_hits + P_2_hits\n",
    "\n",
    "# Округление до тысячных\n",
    "rounded_P_at_least_2_hits = round(P_at_least_2_hits, 2)\n",
    "\n",
    "rounded_P_at_least_2_hits"
   ]
  },
  {
   "cell_type": "code",
   "execution_count": 48,
   "metadata": {},
   "outputs": [
    {
     "data": {
      "text/plain": [
       "0.087890625"
      ]
     },
     "execution_count": 48,
     "metadata": {},
     "output_type": "execute_result"
    }
   ],
   "source": [
    "from scipy.special import comb\n",
    "\n",
    "# Вероятность заболеть для одного программиста\n",
    "p_sick = 0.75\n",
    "\n",
    "# Вероятность не заболеть для одного программиста\n",
    "p_not_sick = 1 - p_sick\n",
    "\n",
    "# Количество программистов\n",
    "n_programmers = 5\n",
    "\n",
    "# Расчет вероятностей для k = 0, 1, 2 (заболевших программистов)\n",
    "P_2_sick = comb(n_programmers, 2) * (p_sick ** 2) * (p_not_sick ** (n_programmers - 2))\n",
    "P_2_sick\n",
    "\n",
    "\n",
    "\n"
   ]
  },
  {
   "cell_type": "code",
   "execution_count": 44,
   "metadata": {},
   "outputs": [
    {
     "data": {
      "text/plain": [
       "0.22765622036690203"
      ]
     },
     "execution_count": 44,
     "metadata": {},
     "output_type": "execute_result"
    }
   ],
   "source": [
    "from scipy.special import comb\n",
    "\n",
    "# Вероятность заболеть для одного программиста\n",
    "p_sick = 0.1\n",
    "\n",
    "# Вероятность не заболеть для одного программиста\n",
    "p_not_sick = 1 - p_sick\n",
    "\n",
    "# Количество программистов\n",
    "n_programmers = 30\n",
    "\n",
    "P_2_sick = comb(n_programmers, 2) * (p_sick ** 2) * (p_not_sick ** (n_programmers - 2))\n",
    "\n",
    "P_2_sick\n"
   ]
  },
  {
   "cell_type": "code",
   "execution_count": 32,
   "metadata": {},
   "outputs": [
    {
     "data": {
      "text/plain": [
       "0.027993599999999993"
      ]
     },
     "execution_count": 32,
     "metadata": {},
     "output_type": "execute_result"
    }
   ],
   "source": [
    "P_0_hits"
   ]
  },
  {
   "cell_type": "code",
   "execution_count": 33,
   "metadata": {},
   "outputs": [
    {
     "data": {
      "text/plain": [
       "0.13063679999999997"
      ]
     },
     "execution_count": 33,
     "metadata": {},
     "output_type": "execute_result"
    }
   ],
   "source": [
    "P_1_buy"
   ]
  },
  {
   "cell_type": "code",
   "execution_count": 34,
   "metadata": {},
   "outputs": [
    {
     "data": {
      "text/plain": [
       "0.13063679999999997"
      ]
     },
     "execution_count": 34,
     "metadata": {},
     "output_type": "execute_result"
    }
   ],
   "source": [
    "P_1_hits"
   ]
  },
  {
   "cell_type": "code",
   "execution_count": 35,
   "metadata": {},
   "outputs": [
    {
     "data": {
      "text/plain": [
       "0.2612736"
      ]
     },
     "execution_count": 35,
     "metadata": {},
     "output_type": "execute_result"
    }
   ],
   "source": [
    "P_2_hits"
   ]
  },
  {
   "cell_type": "code",
   "execution_count": 36,
   "metadata": {},
   "outputs": [
    {
     "data": {
      "text/plain": [
       "0.2612736"
      ]
     },
     "execution_count": 36,
     "metadata": {},
     "output_type": "execute_result"
    }
   ],
   "source": [
    "P_2_buys"
   ]
  },
  {
   "cell_type": "code",
   "execution_count": 37,
   "metadata": {},
   "outputs": [
    {
     "data": {
      "text/plain": [
       "0.41990399999999994"
      ]
     },
     "execution_count": 37,
     "metadata": {},
     "output_type": "execute_result"
    }
   ],
   "source": [
    "P_not_more_than_2_buys"
   ]
  },
  {
   "cell_type": "code",
   "execution_count": 38,
   "metadata": {},
   "outputs": [
    {
     "data": {
      "text/plain": [
       "0.4869175199999999"
      ]
     },
     "execution_count": 38,
     "metadata": {},
     "output_type": "execute_result"
    }
   ],
   "source": [
    "P_at_least_2_hits"
   ]
  },
  {
   "cell_type": "code",
   "execution_count": null,
   "metadata": {},
   "outputs": [],
   "source": []
  }
 ],
 "metadata": {
  "kernelspec": {
   "display_name": "Python 3",
   "language": "python",
   "name": "python3"
  },
  "language_info": {
   "codemirror_mode": {
    "name": "ipython",
    "version": 3
   },
   "file_extension": ".py",
   "mimetype": "text/x-python",
   "name": "python",
   "nbconvert_exporter": "python",
   "pygments_lexer": "ipython3",
   "version": "3.7.3"
  }
 },
 "nbformat": 4,
 "nbformat_minor": 4
}
