{
 "cells": [
  {
   "cell_type": "code",
   "execution_count": 1,
   "metadata": {},
   "outputs": [],
   "source": [
    "def bayes_theorem(p_b_given_a, p_a, p_b):\n",
    "    \"\"\"\n",
    "    Рассчитывает и возвращает P(A|B) используя формулу Байеса.\n",
    "\n",
    "    :param p_b_given_a: вероятность B при условии A (P(B|A)).\n",
    "    :param p_a: априорная вероятность события A (P(A)).\n",
    "    :param p_b: полная вероятность события B (P(B)).\n",
    "    :return: вероятность A при условии B (P(A|B)).\n",
    "    \"\"\"\n",
    "    p_a_given_b = (p_b_given_a * p_a) / p_b\n",
    "    return p_a_given_b\n"
   ]
  },
  {
   "cell_type": "code",
   "execution_count": 19,
   "metadata": {},
   "outputs": [
    {
     "name": "stdout",
     "output_type": "stream",
     "text": [
      "P(A|B) = 0.596\n"
     ]
    }
   ],
   "source": [
    "# Пример значений\n",
    "p_b_given_a = 0.98  # Вероятность положительного теста, если человек болен\n",
    "p_a = 0.07          # Априорная вероятность болезни\n",
    "p_b = 0.1151          # Полная вероятность положительного теста\n",
    "\n",
    "# Расчет вероятности болезни при положительном тесте\n",
    "p_a_given_b = round(bayes_theorem(p_b_given_a, p_a, p_b),4)\n",
    "print(f\"P(A|B) = {p_a_given_b}\")\n"
   ]
  },
  {
   "cell_type": "code",
   "execution_count": null,
   "metadata": {},
   "outputs": [],
   "source": []
  },
  {
   "cell_type": "code",
   "execution_count": null,
   "metadata": {},
   "outputs": [],
   "source": []
  },
  {
   "cell_type": "code",
   "execution_count": null,
   "metadata": {},
   "outputs": [],
   "source": []
  }
 ],
 "metadata": {
  "kernelspec": {
   "display_name": "Python 3",
   "language": "python",
   "name": "python3"
  },
  "language_info": {
   "codemirror_mode": {
    "name": "ipython",
    "version": 3
   },
   "file_extension": ".py",
   "mimetype": "text/x-python",
   "name": "python",
   "nbconvert_exporter": "python",
   "pygments_lexer": "ipython3",
   "version": "3.7.3"
  }
 },
 "nbformat": 4,
 "nbformat_minor": 4
}
